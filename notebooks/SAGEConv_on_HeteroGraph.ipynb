{
 "cells": [
  {
   "cell_type": "code",
   "execution_count": 1,
   "metadata": {},
   "outputs": [
    {
     "name": "stderr",
     "output_type": "stream",
     "text": [
      "/opt/homebrew/anaconda3/envs/network_ml/lib/python3.10/site-packages/tqdm/auto.py:21: TqdmWarning: IProgress not found. Please update jupyter and ipywidgets. See https://ipywidgets.readthedocs.io/en/stable/user_install.html\n",
      "  from .autonotebook import tqdm as notebook_tqdm\n"
     ]
    }
   ],
   "source": [
    "import pandas as pd\n",
    "import torch\n",
    "import torch_geometric as pyg\n",
    "\n",
    "from torch import nn\n",
    "import torch.optim as optim\n",
    "import torch.nn.functional as F\n",
    "from torch_geometric.loader import NeighborLoader\n",
    "\n",
    "from tqdm import tqdm\n",
    "\n",
    "from sentence_transformers import SentenceTransformer"
   ]
  },
  {
   "cell_type": "code",
   "execution_count": 2,
   "metadata": {},
   "outputs": [
    {
     "name": "stdout",
     "output_type": "stream",
     "text": [
      "mps\n"
     ]
    }
   ],
   "source": [
    "if torch.cuda.is_available():\n",
    "    device = 'cuda'\n",
    "elif torch.backends.mps.is_available():\n",
    "    device = 'mps'\n",
    "else:\n",
    "    device = 'cpu'\n",
    "print(device)"
   ]
  },
  {
   "cell_type": "code",
   "execution_count": 3,
   "metadata": {},
   "outputs": [],
   "source": [
    "device = \"cpu\""
   ]
  },
  {
   "cell_type": "markdown",
   "metadata": {},
   "source": [
    "## Load data"
   ]
  },
  {
   "cell_type": "code",
   "execution_count": 47,
   "metadata": {},
   "outputs": [
    {
     "name": "stdout",
     "output_type": "stream",
     "text": [
      "Index(['book_id', 'title', 'authors'], dtype='object')\n"
     ]
    }
   ],
   "source": [
    "df_books = pd.read_csv('../data/books.csv')[['book_id', 'title', 'authors']]    # TODO: think about using also the columns\n",
    "df_ratings = pd.read_csv('../data/ratings.csv')\n",
    "\n",
    "print(df_books.columns)"
   ]
  },
  {
   "cell_type": "code",
   "execution_count": 48,
   "metadata": {},
   "outputs": [],
   "source": [
    "# Create features\n",
    "model = SentenceTransformer('all-MiniLM-L6-v2', device=device)"
   ]
  },
  {
   "cell_type": "code",
   "execution_count": 49,
   "metadata": {},
   "outputs": [
    {
     "name": "stderr",
     "output_type": "stream",
     "text": [
      "Batches: 100%|██████████| 313/313 [00:55<00:00,  5.63it/s]\n"
     ]
    },
    {
     "name": "stdout",
     "output_type": "stream",
     "text": [
      "Books features shape: torch.Size([10000, 384])\n",
      "Users features shape: torch.Size([53424, 768])\n"
     ]
    }
   ],
   "source": [
    "# Books features\n",
    "df_books[\"text_to_embed\"] = \"Title: \" + df_books[\"title\"] + \" Authors: \" + df_books[\"authors\"]\n",
    "with torch.no_grad():\n",
    "    titles_emb = model.encode(df_books['text_to_embed'].values, device=device, show_progress_bar=True, batch_size=32)\n",
    "    \n",
    "del model\n",
    "torch.cuda.empty_cache()    \n",
    "\n",
    "books_features = torch.tensor(titles_emb)\n",
    "print(\"Books features shape:\", books_features.shape)\n",
    "\n",
    "# Users features: as we don't have any information we will use random features\n",
    "users_features = torch.rand(df_ratings['user_id'].nunique(), 768, device=device)\n",
    "print(\"Users features shape:\", users_features.shape)"
   ]
  },
  {
   "cell_type": "code",
   "execution_count": 50,
   "metadata": {},
   "outputs": [
    {
     "data": {
      "text/html": [
       "<div>\n",
       "<style scoped>\n",
       "    .dataframe tbody tr th:only-of-type {\n",
       "        vertical-align: middle;\n",
       "    }\n",
       "\n",
       "    .dataframe tbody tr th {\n",
       "        vertical-align: top;\n",
       "    }\n",
       "\n",
       "    .dataframe thead th {\n",
       "        text-align: right;\n",
       "    }\n",
       "</style>\n",
       "<table border=\"1\" class=\"dataframe\">\n",
       "  <thead>\n",
       "    <tr style=\"text-align: right;\">\n",
       "      <th></th>\n",
       "      <th>user_id</th>\n",
       "      <th>book_id</th>\n",
       "      <th>rating</th>\n",
       "      <th>title</th>\n",
       "      <th>authors</th>\n",
       "      <th>text_to_embed</th>\n",
       "    </tr>\n",
       "  </thead>\n",
       "  <tbody>\n",
       "    <tr>\n",
       "      <th>0</th>\n",
       "      <td>1</td>\n",
       "      <td>258</td>\n",
       "      <td>5</td>\n",
       "      <td>The Shadow of the Wind (The Cemetery of Forgot...</td>\n",
       "      <td>Carlos Ruiz Zafón, Lucia Graves</td>\n",
       "      <td>Title: The Shadow of the Wind (The Cemetery of...</td>\n",
       "    </tr>\n",
       "    <tr>\n",
       "      <th>1</th>\n",
       "      <td>2</td>\n",
       "      <td>4081</td>\n",
       "      <td>4</td>\n",
       "      <td>I am Charlotte Simmons</td>\n",
       "      <td>Tom Wolfe</td>\n",
       "      <td>Title: I am Charlotte Simmons Authors: Tom Wolfe</td>\n",
       "    </tr>\n",
       "    <tr>\n",
       "      <th>2</th>\n",
       "      <td>2</td>\n",
       "      <td>260</td>\n",
       "      <td>5</td>\n",
       "      <td>How to Win Friends and Influence People</td>\n",
       "      <td>Dale Carnegie</td>\n",
       "      <td>Title: How to Win Friends and Influence People...</td>\n",
       "    </tr>\n",
       "    <tr>\n",
       "      <th>3</th>\n",
       "      <td>2</td>\n",
       "      <td>9296</td>\n",
       "      <td>5</td>\n",
       "      <td>The Drama of the Gifted Child: The Search for ...</td>\n",
       "      <td>Alice  Miller, Ruth Ward</td>\n",
       "      <td>Title: The Drama of the Gifted Child: The Sear...</td>\n",
       "    </tr>\n",
       "    <tr>\n",
       "      <th>4</th>\n",
       "      <td>2</td>\n",
       "      <td>2318</td>\n",
       "      <td>3</td>\n",
       "      <td>The Millionaire Next Door: The Surprising Secr...</td>\n",
       "      <td>Thomas J. Stanley, William D. Danko</td>\n",
       "      <td>Title: The Millionaire Next Door: The Surprisi...</td>\n",
       "    </tr>\n",
       "    <tr>\n",
       "      <th>5</th>\n",
       "      <td>2</td>\n",
       "      <td>26</td>\n",
       "      <td>4</td>\n",
       "      <td>The Da Vinci Code (Robert Langdon, #2)</td>\n",
       "      <td>Dan Brown</td>\n",
       "      <td>Title: The Da Vinci Code (Robert Langdon, #2) ...</td>\n",
       "    </tr>\n",
       "    <tr>\n",
       "      <th>6</th>\n",
       "      <td>2</td>\n",
       "      <td>315</td>\n",
       "      <td>3</td>\n",
       "      <td>Who Moved My Cheese?</td>\n",
       "      <td>Spencer Johnson, Kenneth H. Blanchard</td>\n",
       "      <td>Title: Who Moved My Cheese? Authors: Spencer J...</td>\n",
       "    </tr>\n",
       "    <tr>\n",
       "      <th>7</th>\n",
       "      <td>2</td>\n",
       "      <td>33</td>\n",
       "      <td>4</td>\n",
       "      <td>Memoirs of a Geisha</td>\n",
       "      <td>Arthur Golden</td>\n",
       "      <td>Title: Memoirs of a Geisha Authors: Arthur Golden</td>\n",
       "    </tr>\n",
       "    <tr>\n",
       "      <th>8</th>\n",
       "      <td>2</td>\n",
       "      <td>301</td>\n",
       "      <td>5</td>\n",
       "      <td>Heart of Darkness</td>\n",
       "      <td>Joseph Conrad</td>\n",
       "      <td>Title: Heart of Darkness Authors: Joseph Conrad</td>\n",
       "    </tr>\n",
       "    <tr>\n",
       "      <th>9</th>\n",
       "      <td>2</td>\n",
       "      <td>2686</td>\n",
       "      <td>5</td>\n",
       "      <td>Blue Ocean Strategy: How To Create Uncontested...</td>\n",
       "      <td>W. Chan Kim, Renée Mauborgne</td>\n",
       "      <td>Title: Blue Ocean Strategy: How To Create Unco...</td>\n",
       "    </tr>\n",
       "  </tbody>\n",
       "</table>\n",
       "</div>"
      ],
      "text/plain": [
       "   user_id  book_id  rating  \\\n",
       "0        1      258       5   \n",
       "1        2     4081       4   \n",
       "2        2      260       5   \n",
       "3        2     9296       5   \n",
       "4        2     2318       3   \n",
       "5        2       26       4   \n",
       "6        2      315       3   \n",
       "7        2       33       4   \n",
       "8        2      301       5   \n",
       "9        2     2686       5   \n",
       "\n",
       "                                               title  \\\n",
       "0  The Shadow of the Wind (The Cemetery of Forgot...   \n",
       "1                             I am Charlotte Simmons   \n",
       "2            How to Win Friends and Influence People   \n",
       "3  The Drama of the Gifted Child: The Search for ...   \n",
       "4  The Millionaire Next Door: The Surprising Secr...   \n",
       "5             The Da Vinci Code (Robert Langdon, #2)   \n",
       "6                               Who Moved My Cheese?   \n",
       "7                                Memoirs of a Geisha   \n",
       "8                                  Heart of Darkness   \n",
       "9  Blue Ocean Strategy: How To Create Uncontested...   \n",
       "\n",
       "                                 authors  \\\n",
       "0        Carlos Ruiz Zafón, Lucia Graves   \n",
       "1                              Tom Wolfe   \n",
       "2                          Dale Carnegie   \n",
       "3               Alice  Miller, Ruth Ward   \n",
       "4    Thomas J. Stanley, William D. Danko   \n",
       "5                              Dan Brown   \n",
       "6  Spencer Johnson, Kenneth H. Blanchard   \n",
       "7                          Arthur Golden   \n",
       "8                          Joseph Conrad   \n",
       "9           W. Chan Kim, Renée Mauborgne   \n",
       "\n",
       "                                       text_to_embed  \n",
       "0  Title: The Shadow of the Wind (The Cemetery of...  \n",
       "1   Title: I am Charlotte Simmons Authors: Tom Wolfe  \n",
       "2  Title: How to Win Friends and Influence People...  \n",
       "3  Title: The Drama of the Gifted Child: The Sear...  \n",
       "4  Title: The Millionaire Next Door: The Surprisi...  \n",
       "5  Title: The Da Vinci Code (Robert Langdon, #2) ...  \n",
       "6  Title: Who Moved My Cheese? Authors: Spencer J...  \n",
       "7  Title: Memoirs of a Geisha Authors: Arthur Golden  \n",
       "8    Title: Heart of Darkness Authors: Joseph Conrad  \n",
       "9  Title: Blue Ocean Strategy: How To Create Unco...  "
      ]
     },
     "execution_count": 50,
     "metadata": {},
     "output_type": "execute_result"
    }
   ],
   "source": [
    "# Merge the two dataframes keeping user_id, book_id, rating, title, authors\n",
    "df_ratings = pd.merge(df_ratings, df_books, on='book_id')\n",
    "df_ratings.head()"
   ]
  },
  {
   "cell_type": "code",
   "execution_count": 8,
   "metadata": {},
   "outputs": [
    {
     "name": "stdout",
     "output_type": "stream",
     "text": [
      "Mapping of user IDs to consecutive values:\n",
      "==========================================\n",
      "   user_id  mapped_user_id\n",
      "0        1               0\n",
      "1        2               1\n",
      "2        4               2\n",
      "3        6               3\n",
      "4        8               4\n",
      "\n",
      "Mapping of book IDs to consecutive values:\n",
      "===========================================\n",
      "   book_id  mapped_book_id\n",
      "0      258               0\n",
      "1     4081               1\n",
      "2      260               2\n",
      "3     9296               3\n",
      "4     2318               4\n",
      "\n"
     ]
    }
   ],
   "source": [
    "# Create a mapping from the user_id to a unique consecutive value in the range [0, num_users]:\n",
    "unique_user_id = df_ratings['user_id'].unique()\n",
    "unique_user_id = pd.DataFrame(data={\n",
    "    'user_id': unique_user_id, \n",
    "    'mapped_user_id': pd.RangeIndex(len(unique_user_id))\n",
    "    })\n",
    "print(\"Mapping of user IDs to consecutive values:\")\n",
    "print(\"==========================================\")\n",
    "print(unique_user_id.head())\n",
    "print()\n",
    "\n",
    "# Create a mapping from the book_id to a unique consecutive value in the range [0, num_books]:\n",
    "unique_book_id = df_ratings['book_id'].unique()\n",
    "unique_book_id = pd.DataFrame(data={\n",
    "    'book_id': unique_book_id,\n",
    "    'mapped_book_id': pd.RangeIndex(len(unique_book_id))\n",
    "    })\n",
    "print(\"Mapping of book IDs to consecutive values:\")\n",
    "print(\"===========================================\")\n",
    "print(unique_book_id.head())\n",
    "print()"
   ]
  },
  {
   "cell_type": "code",
   "execution_count": 9,
   "metadata": {},
   "outputs": [
    {
     "data": {
      "text/html": [
       "<div>\n",
       "<style scoped>\n",
       "    .dataframe tbody tr th:only-of-type {\n",
       "        vertical-align: middle;\n",
       "    }\n",
       "\n",
       "    .dataframe tbody tr th {\n",
       "        vertical-align: top;\n",
       "    }\n",
       "\n",
       "    .dataframe thead th {\n",
       "        text-align: right;\n",
       "    }\n",
       "</style>\n",
       "<table border=\"1\" class=\"dataframe\">\n",
       "  <thead>\n",
       "    <tr style=\"text-align: right;\">\n",
       "      <th></th>\n",
       "      <th>user_id</th>\n",
       "      <th>book_id</th>\n",
       "      <th>rating</th>\n",
       "      <th>title</th>\n",
       "      <th>authors</th>\n",
       "      <th>text_to_embed</th>\n",
       "    </tr>\n",
       "  </thead>\n",
       "  <tbody>\n",
       "    <tr>\n",
       "      <th>0</th>\n",
       "      <td>1</td>\n",
       "      <td>258</td>\n",
       "      <td>5</td>\n",
       "      <td>The Shadow of the Wind (The Cemetery of Forgot...</td>\n",
       "      <td>Carlos Ruiz Zafón, Lucia Graves</td>\n",
       "      <td>Title: The Shadow of the Wind (The Cemetery of...</td>\n",
       "    </tr>\n",
       "    <tr>\n",
       "      <th>1</th>\n",
       "      <td>2</td>\n",
       "      <td>4081</td>\n",
       "      <td>4</td>\n",
       "      <td>I am Charlotte Simmons</td>\n",
       "      <td>Tom Wolfe</td>\n",
       "      <td>Title: I am Charlotte Simmons Authors: Tom Wolfe</td>\n",
       "    </tr>\n",
       "    <tr>\n",
       "      <th>2</th>\n",
       "      <td>2</td>\n",
       "      <td>260</td>\n",
       "      <td>5</td>\n",
       "      <td>How to Win Friends and Influence People</td>\n",
       "      <td>Dale Carnegie</td>\n",
       "      <td>Title: How to Win Friends and Influence People...</td>\n",
       "    </tr>\n",
       "    <tr>\n",
       "      <th>3</th>\n",
       "      <td>2</td>\n",
       "      <td>9296</td>\n",
       "      <td>5</td>\n",
       "      <td>The Drama of the Gifted Child: The Search for ...</td>\n",
       "      <td>Alice  Miller, Ruth Ward</td>\n",
       "      <td>Title: The Drama of the Gifted Child: The Sear...</td>\n",
       "    </tr>\n",
       "    <tr>\n",
       "      <th>4</th>\n",
       "      <td>2</td>\n",
       "      <td>2318</td>\n",
       "      <td>3</td>\n",
       "      <td>The Millionaire Next Door: The Surprising Secr...</td>\n",
       "      <td>Thomas J. Stanley, William D. Danko</td>\n",
       "      <td>Title: The Millionaire Next Door: The Surprisi...</td>\n",
       "    </tr>\n",
       "    <tr>\n",
       "      <th>...</th>\n",
       "      <td>...</td>\n",
       "      <td>...</td>\n",
       "      <td>...</td>\n",
       "      <td>...</td>\n",
       "      <td>...</td>\n",
       "      <td>...</td>\n",
       "    </tr>\n",
       "    <tr>\n",
       "      <th>5976474</th>\n",
       "      <td>49925</td>\n",
       "      <td>510</td>\n",
       "      <td>5</td>\n",
       "      <td>The Great Hunt (Wheel of Time, #2)</td>\n",
       "      <td>Robert Jordan</td>\n",
       "      <td>Title: The Great Hunt (Wheel of Time, #2) Auth...</td>\n",
       "    </tr>\n",
       "    <tr>\n",
       "      <th>5976475</th>\n",
       "      <td>49925</td>\n",
       "      <td>528</td>\n",
       "      <td>4</td>\n",
       "      <td>The Dragon Reborn (Wheel of Time, #3)</td>\n",
       "      <td>Robert Jordan</td>\n",
       "      <td>Title: The Dragon Reborn (Wheel of Time, #3) A...</td>\n",
       "    </tr>\n",
       "    <tr>\n",
       "      <th>5976476</th>\n",
       "      <td>49925</td>\n",
       "      <td>722</td>\n",
       "      <td>4</td>\n",
       "      <td>The Shadow Rising (Wheel of Time, #4)</td>\n",
       "      <td>Robert Jordan</td>\n",
       "      <td>Title: The Shadow Rising (Wheel of Time, #4) A...</td>\n",
       "    </tr>\n",
       "    <tr>\n",
       "      <th>5976477</th>\n",
       "      <td>49925</td>\n",
       "      <td>949</td>\n",
       "      <td>5</td>\n",
       "      <td>The Fires of Heaven (Wheel of Time, #5)</td>\n",
       "      <td>Robert Jordan</td>\n",
       "      <td>Title: The Fires of Heaven (Wheel of Time, #5)...</td>\n",
       "    </tr>\n",
       "    <tr>\n",
       "      <th>5976478</th>\n",
       "      <td>49925</td>\n",
       "      <td>1023</td>\n",
       "      <td>4</td>\n",
       "      <td>Lord of Chaos (Wheel of Time, #6)</td>\n",
       "      <td>Robert Jordan</td>\n",
       "      <td>Title: Lord of Chaos (Wheel of Time, #6) Autho...</td>\n",
       "    </tr>\n",
       "  </tbody>\n",
       "</table>\n",
       "<p>5976479 rows × 6 columns</p>\n",
       "</div>"
      ],
      "text/plain": [
       "         user_id  book_id  rating  \\\n",
       "0              1      258       5   \n",
       "1              2     4081       4   \n",
       "2              2      260       5   \n",
       "3              2     9296       5   \n",
       "4              2     2318       3   \n",
       "...          ...      ...     ...   \n",
       "5976474    49925      510       5   \n",
       "5976475    49925      528       4   \n",
       "5976476    49925      722       4   \n",
       "5976477    49925      949       5   \n",
       "5976478    49925     1023       4   \n",
       "\n",
       "                                                     title  \\\n",
       "0        The Shadow of the Wind (The Cemetery of Forgot...   \n",
       "1                                   I am Charlotte Simmons   \n",
       "2                  How to Win Friends and Influence People   \n",
       "3        The Drama of the Gifted Child: The Search for ...   \n",
       "4        The Millionaire Next Door: The Surprising Secr...   \n",
       "...                                                    ...   \n",
       "5976474                 The Great Hunt (Wheel of Time, #2)   \n",
       "5976475              The Dragon Reborn (Wheel of Time, #3)   \n",
       "5976476              The Shadow Rising (Wheel of Time, #4)   \n",
       "5976477            The Fires of Heaven (Wheel of Time, #5)   \n",
       "5976478                  Lord of Chaos (Wheel of Time, #6)   \n",
       "\n",
       "                                     authors  \\\n",
       "0            Carlos Ruiz Zafón, Lucia Graves   \n",
       "1                                  Tom Wolfe   \n",
       "2                              Dale Carnegie   \n",
       "3                   Alice  Miller, Ruth Ward   \n",
       "4        Thomas J. Stanley, William D. Danko   \n",
       "...                                      ...   \n",
       "5976474                        Robert Jordan   \n",
       "5976475                        Robert Jordan   \n",
       "5976476                        Robert Jordan   \n",
       "5976477                        Robert Jordan   \n",
       "5976478                        Robert Jordan   \n",
       "\n",
       "                                             text_to_embed  \n",
       "0        Title: The Shadow of the Wind (The Cemetery of...  \n",
       "1         Title: I am Charlotte Simmons Authors: Tom Wolfe  \n",
       "2        Title: How to Win Friends and Influence People...  \n",
       "3        Title: The Drama of the Gifted Child: The Sear...  \n",
       "4        Title: The Millionaire Next Door: The Surprisi...  \n",
       "...                                                    ...  \n",
       "5976474  Title: The Great Hunt (Wheel of Time, #2) Auth...  \n",
       "5976475  Title: The Dragon Reborn (Wheel of Time, #3) A...  \n",
       "5976476  Title: The Shadow Rising (Wheel of Time, #4) A...  \n",
       "5976477  Title: The Fires of Heaven (Wheel of Time, #5)...  \n",
       "5976478  Title: Lord of Chaos (Wheel of Time, #6) Autho...  \n",
       "\n",
       "[5976479 rows x 6 columns]"
      ]
     },
     "execution_count": 9,
     "metadata": {},
     "output_type": "execute_result"
    }
   ],
   "source": [
    "df_ratings"
   ]
  },
  {
   "cell_type": "code",
   "execution_count": 10,
   "metadata": {},
   "outputs": [
    {
     "name": "stdout",
     "output_type": "stream",
     "text": [
      "tensor([[0, 1, 1, 1, 1, 1, 1, 1, 1, 1],\n",
      "        [0, 1, 2, 3, 4, 5, 6, 7, 8, 9]])\n"
     ]
    }
   ],
   "source": [
    "df_ratings = df_ratings.merge(unique_user_id, on='user_id')\n",
    "df_ratings = df_ratings.merge(unique_book_id, on='book_id')\n",
    "\n",
    "# With this, we are ready to create the edge_index representation in COO format\n",
    "# following the PyTorch Geometric semantics:\n",
    "edge_index = torch.stack([\n",
    "    torch.tensor(df_ratings['mapped_user_id'].values), \n",
    "    torch.tensor(df_ratings['mapped_book_id'].values)]\n",
    "    , dim=0)\n",
    "\n",
    "print(edge_index[:, :10])"
   ]
  },
  {
   "cell_type": "code",
   "execution_count": 11,
   "metadata": {},
   "outputs": [
    {
     "name": "stderr",
     "output_type": "stream",
     "text": [
      "/var/folders/0h/cr6479k54yx2bm781wwm1gwh0000gn/T/ipykernel_7830/1323938127.py:8: UserWarning: To copy construct from a tensor, it is recommended to use sourceTensor.clone().detach() or sourceTensor.clone().detach().requires_grad_(True), rather than torch.tensor(sourceTensor).\n",
      "  data['user'].x = torch.tensor(users_features,)  # (num_users, num_users_features)\n"
     ]
    },
    {
     "data": {
      "text/plain": [
       "HeteroData(\n",
       "  user={ x=[53424, 768] },\n",
       "  book={ x=[10000, 384] },\n",
       "  (user, rates, book)={\n",
       "    edge_index=[2, 5976479],\n",
       "    edge_label=[5976479],\n",
       "  },\n",
       "  (book, rev_rates, user)={ edge_index=[2, 5976479] }\n",
       ")"
      ]
     },
     "execution_count": 11,
     "metadata": {},
     "output_type": "execute_result"
    }
   ],
   "source": [
    "import torch_geometric.transforms as T\n",
    "from torch_geometric.data import HeteroData\n",
    "\n",
    "# Create the heterogeneous graph data object:\n",
    "data = HeteroData()\n",
    "\n",
    "# Add the user nodes:\n",
    "data['user'].x = torch.tensor(users_features,)  # (num_users, num_users_features)\n",
    "\n",
    "# Add the book nodes:\n",
    "data['book'].x = torch.tensor(titles_emb,)  # (num_books, num_books_features)\n",
    "\n",
    "# Add the rating edges:\n",
    "data['user', 'rates', 'book'].edge_index = edge_index  # (2, num_ratings)\n",
    "\n",
    "# Add the rating labels:\n",
    "rating = torch.from_numpy(df_ratings['rating'].values)\n",
    "data['user', 'rates', 'book'].edge_label = rating  # [num_ratings]\n",
    "\n",
    "# We also need to make sure to add the reverse edges from books to users\n",
    "# in order to let a GNN be able to pass messages in both directions.\n",
    "# We can leverage the `T.ToUndirected()` transform for this from PyG:\n",
    "data = T.ToUndirected()(data)\n",
    "\n",
    "# With the above transformation we also got reversed labels for the edges.\n",
    "# We remove them\n",
    "del data['book', 'rev_rates', 'user'].edge_label\n",
    "\n",
    "assert data['user'].num_nodes == len(unique_user_id)\n",
    "assert data['user', 'rates', 'book'].num_edges == len(df_ratings)\n",
    "\n",
    "data"
   ]
  },
  {
   "cell_type": "code",
   "execution_count": 20,
   "metadata": {},
   "outputs": [
    {
     "data": {
      "text/plain": [
       "(HeteroData(\n",
       "   user={ x=[53424, 768] },\n",
       "   book={ x=[10000, 384] },\n",
       "   (user, rates, book)={\n",
       "     edge_index=[2, 4183537],\n",
       "     edge_label=[4183537],\n",
       "     edge_label_index=[2, 4183537],\n",
       "   },\n",
       "   (book, rev_rates, user)={ edge_index=[2, 4183537] }\n",
       " ),\n",
       " HeteroData(\n",
       "   user={ x=[53424, 768] },\n",
       "   book={ x=[10000, 384] },\n",
       "   (user, rates, book)={\n",
       "     edge_index=[2, 4183537],\n",
       "     edge_label=[597647],\n",
       "     edge_label_index=[2, 597647],\n",
       "   },\n",
       "   (book, rev_rates, user)={ edge_index=[2, 4183537] }\n",
       " ),\n",
       " HeteroData(\n",
       "   user={ x=[53424, 768] },\n",
       "   book={ x=[10000, 384] },\n",
       "   (user, rates, book)={\n",
       "     edge_index=[2, 4781184],\n",
       "     edge_label=[1195295],\n",
       "     edge_label_index=[2, 1195295],\n",
       "   },\n",
       "   (book, rev_rates, user)={ edge_index=[2, 4781184] }\n",
       " ))"
      ]
     },
     "execution_count": 20,
     "metadata": {},
     "output_type": "execute_result"
    }
   ],
   "source": [
    "train_data, val_data, test_data = T.RandomLinkSplit(\n",
    "    neg_sampling_ratio=0.0,\n",
    "    edge_types=[('user', 'rates', 'book')],\n",
    "    rev_edge_types=[('book', 'rev_rates', 'user')],\n",
    ")(data)\n",
    "train_data, val_data, test_data"
   ]
  },
  {
   "cell_type": "code",
   "execution_count": 71,
   "metadata": {},
   "outputs": [
    {
     "name": "stdout",
     "output_type": "stream",
     "text": [
      "Model(\n",
      "  (encoder): GraphModule(\n",
      "    (conv1): ModuleDict(\n",
      "      (user__rates__book): SAGEConv((-1, -1), 10, aggr=mean)\n",
      "      (book__rev_rates__user): SAGEConv((-1, -1), 10, aggr=mean)\n",
      "    )\n",
      "    (conv2): ModuleDict(\n",
      "      (user__rates__book): SAGEConv((-1, -1), 10, aggr=mean)\n",
      "      (book__rev_rates__user): SAGEConv((-1, -1), 10, aggr=mean)\n",
      "    )\n",
      "  )\n",
      "  (decoder): EdgeDecoder(\n",
      "    (lin1): Linear(in_features=20, out_features=10, bias=True)\n",
      "    (lin2): Linear(in_features=10, out_features=1, bias=True)\n",
      "  )\n",
      ")\n"
     ]
    }
   ],
   "source": [
    "from torch_geometric.nn import SAGEConv, to_hetero\n",
    "\n",
    "class GNNEncoder(torch.nn.Module):\n",
    "    def __init__(self, hidden_channels, out_channels):\n",
    "        super().__init__()\n",
    "        self.conv1 = SAGEConv((-1, -1), hidden_channels)\n",
    "        self.conv2 = SAGEConv((-1, -1), out_channels)\n",
    "\n",
    "    def forward(self, x, edge_index):\n",
    "        x = self.conv1(x, edge_index).relu()\n",
    "        x = self.conv2(x, edge_index)\n",
    "        return x\n",
    "\n",
    "\n",
    "class EdgeDecoder(torch.nn.Module):\n",
    "    def __init__(self, hidden_channels):\n",
    "        super().__init__()\n",
    "        self.lin1 = torch.nn.Linear(2 * hidden_channels, hidden_channels)\n",
    "        self.lin2 = torch.nn.Linear(hidden_channels, 1)\n",
    "\n",
    "    def forward(self, z_dict, edge_label_index):\n",
    "        row, col = edge_label_index\n",
    "        z = torch.cat([z_dict['user'][row], z_dict['book'][col]], dim=-1)\n",
    "\n",
    "        z = self.lin1(z).relu()\n",
    "        z = self.lin2(z)\n",
    "        return z.view(-1)\n",
    "\n",
    "\n",
    "class Model(torch.nn.Module):\n",
    "    def __init__(self, hidden_channels):\n",
    "        super().__init__()\n",
    "        self.encoder = GNNEncoder(hidden_channels, hidden_channels)\n",
    "        self.encoder = to_hetero(self.encoder, data.metadata(), aggr='sum')\n",
    "        self.decoder = EdgeDecoder(hidden_channels)\n",
    "\n",
    "    def forward(self, x_dict, edge_index_dict, edge_label_index):\n",
    "        z_dict = self.encoder(x_dict, edge_index_dict)\n",
    "        return self.decoder(z_dict, edge_label_index)\n",
    "\n",
    "\n",
    "model = Model(hidden_channels=10).to(device)\n",
    "print(model)"
   ]
  },
  {
   "cell_type": "code",
   "execution_count": 14,
   "metadata": {},
   "outputs": [],
   "source": [
    "# # Define the data loader\n",
    "# train_dataloader= NeighborLoader(\n",
    "#     data=train_data,\n",
    "#     num_neighbors={key: [10] * 2 for key in train_data.edge_types},\n",
    "#     input_nodes=(\"user\", train_data[\"user\"].x),   # What if we use book?\n",
    "#     batch_size=32,\n",
    "# )\n"
   ]
  },
  {
   "cell_type": "code",
   "execution_count": 15,
   "metadata": {},
   "outputs": [],
   "source": [
    "# for p in train_dataloader:\n",
    "#     print(p)\n",
    "#     break"
   ]
  },
  {
   "cell_type": "code",
   "execution_count": 16,
   "metadata": {},
   "outputs": [],
   "source": [
    "# # Training Loop\n",
    "# def train(model, data_loader, optimizer, criterion):\n",
    "#     model.train()\n",
    "#     total_loss = 0\n",
    "#     for batch in data_loader:\n",
    "#         batch = batch.to(device)\n",
    "#         optimizer.zero_grad()\n",
    "#         pred = model(batch.x_dict, batch.edge_index_dict, batch['user', 'rates', 'book'].edge_label_index)\n",
    "#         print(\"sium\")\n",
    "#         loss = criterion(pred, batch['user', 'rates', 'book'].edge_label.float())\n",
    "#         loss.backward()\n",
    "#         optimizer.step()\n",
    "#         total_loss += loss.item() * batch.num_graphs\n",
    "#     return total_loss / len(data_loader.dataset)\n",
    "\n",
    "# # Testing Loop\n",
    "# def test(model, data_loader, criterion):\n",
    "#     model.eval()\n",
    "#     total_loss = 0\n",
    "#     with torch.no_grad():\n",
    "#         for batch in data_loader:\n",
    "#             batch = batch.to(device)\n",
    "#             pred = model(batch.x_dict, batch.edge_index_dict, batch['user', 'rates', 'book'].edge_label_index)\n",
    "#             loss = criterion(pred, batch['user', 'rates', 'book'].edge_label.float())\n",
    "#             total_loss += loss.item() * batch.num_graphs\n",
    "#     return total_loss / len(data_loader.dataset)\n",
    "\n",
    "# # Main training and testing routines\n",
    "# optimizer = optim.Adam(model.parameters(), lr=0.01)\n",
    "# criterion = nn.MSELoss()\n",
    "\n",
    "# num_epochs = 10\n",
    "# for epoch in range(num_epochs):\n",
    "#     train_loss = train(model, train_dataloader, optimizer, criterion)\n",
    "#     val_loss = test(model, val_data, criterion)\n",
    "#     print(f'Epoch: {epoch+1}, Training Loss: {train_loss:.4f}, Validation Loss: {val_loss:.4f}')\n",
    "\n",
    "# # Optionally, after training, you can evaluate your model on the test dataset\n",
    "# test_loss = test(model, test_data, criterion)\n",
    "# print(f'Test Loss: {test_loss:.4f}')\n"
   ]
  },
  {
   "cell_type": "code",
   "execution_count": 17,
   "metadata": {},
   "outputs": [
    {
     "name": "stdout",
     "output_type": "stream",
     "text": [
      "Epoch: 1, Training Loss: 17.2183, Validation Loss: 14.2554\n",
      "Epoch: 2, Training Loss: 14.2433, Validation Loss: 9.8844\n",
      "Epoch: 3, Training Loss: 9.8749, Validation Loss: 5.7598\n",
      "Epoch: 4, Training Loss: 5.7536, Validation Loss: 2.3482\n",
      "Epoch: 5, Training Loss: 2.3461, Validation Loss: 0.9825\n",
      "Epoch: 6, Training Loss: 0.9854, Validation Loss: 2.6110\n",
      "Epoch: 7, Training Loss: 2.6189, Validation Loss: 4.3842\n",
      "Epoch: 8, Training Loss: 4.3943, Validation Loss: 4.0153\n",
      "Epoch: 9, Training Loss: 4.0250, Validation Loss: 2.6412\n",
      "Epoch: 10, Training Loss: 2.6491, Validation Loss: 1.4914\n",
      "Epoch: 11, Training Loss: 1.4970, Validation Loss: 0.9992\n",
      "Epoch: 12, Training Loss: 1.0025, Validation Loss: 1.1043\n",
      "Epoch: 13, Training Loss: 1.1055, Validation Loss: 1.5021\n",
      "Epoch: 14, Training Loss: 1.5018, Validation Loss: 1.9066\n",
      "Epoch: 15, Training Loss: 1.9055, Validation Loss: 2.1510\n",
      "Epoch: 16, Training Loss: 2.1494, Validation Loss: 2.1800\n",
      "Epoch: 17, Training Loss: 2.1783, Validation Loss: 2.0142\n",
      "Epoch: 18, Training Loss: 2.0128, Validation Loss: 1.7196\n",
      "Epoch: 19, Training Loss: 1.7189, Validation Loss: 1.3879\n",
      "Epoch: 20, Training Loss: 1.3880, Validation Loss: 1.1169\n",
      "Epoch: 21, Training Loss: 1.1181, Validation Loss: 0.9858\n",
      "Epoch: 22, Training Loss: 0.9882, Validation Loss: 1.0228\n",
      "Epoch: 23, Training Loss: 1.0264, Validation Loss: 1.1816\n",
      "Epoch: 24, Training Loss: 1.1861, Validation Loss: 1.3544\n",
      "Epoch: 25, Training Loss: 1.3596, Validation Loss: 1.4341\n",
      "Epoch: 26, Training Loss: 1.4396, Validation Loss: 1.3812\n",
      "Epoch: 27, Training Loss: 1.3865, Validation Loss: 1.2387\n",
      "Epoch: 28, Training Loss: 1.2435, Validation Loss: 1.0887\n",
      "Epoch: 29, Training Loss: 1.0927, Validation Loss: 0.9967\n",
      "Epoch: 30, Training Loss: 0.9999, Validation Loss: 0.9836\n",
      "Epoch: 31, Training Loss: 0.9861, Validation Loss: 1.0301\n",
      "Epoch: 32, Training Loss: 1.0319, Validation Loss: 1.0979\n",
      "Epoch: 33, Training Loss: 1.0992, Validation Loss: 1.1507\n",
      "Epoch: 34, Training Loss: 1.1517, Validation Loss: 1.1669\n",
      "Epoch: 35, Training Loss: 1.1678, Validation Loss: 1.1431\n",
      "Epoch: 36, Training Loss: 1.1442, Validation Loss: 1.0918\n",
      "Epoch: 37, Training Loss: 1.0931, Validation Loss: 1.0342\n",
      "Epoch: 38, Training Loss: 1.0360, Validation Loss: 0.9924\n",
      "Epoch: 39, Training Loss: 0.9947, Validation Loss: 0.9799\n",
      "Epoch: 40, Training Loss: 0.9827, Validation Loss: 0.9960\n",
      "Epoch: 41, Training Loss: 0.9992, Validation Loss: 1.0262\n",
      "Epoch: 42, Training Loss: 1.0297, Validation Loss: 1.0504\n",
      "Epoch: 43, Training Loss: 1.0542, Validation Loss: 1.0545\n",
      "Epoch: 44, Training Loss: 1.0584, Validation Loss: 1.0378\n",
      "Epoch: 45, Training Loss: 1.0414, Validation Loss: 1.0110\n",
      "Epoch: 46, Training Loss: 1.0144, Validation Loss: 0.9886\n",
      "Epoch: 47, Training Loss: 0.9917, Validation Loss: 0.9798\n",
      "Epoch: 48, Training Loss: 0.9825, Validation Loss: 0.9851\n",
      "Epoch: 49, Training Loss: 0.9875, Validation Loss: 0.9979\n",
      "Epoch: 50, Training Loss: 1.0001, Validation Loss: 1.0096\n",
      "Epoch: 51, Training Loss: 1.0116, Validation Loss: 1.0138\n",
      "Epoch: 52, Training Loss: 1.0158, Validation Loss: 1.0090\n",
      "Epoch: 53, Training Loss: 1.0110, Validation Loss: 0.9982\n",
      "Epoch: 54, Training Loss: 1.0003, Validation Loss: 0.9870\n",
      "Epoch: 55, Training Loss: 0.9893, Validation Loss: 0.9804\n",
      "Epoch: 56, Training Loss: 0.9830, Validation Loss: 0.9806\n",
      "Epoch: 57, Training Loss: 0.9835, Validation Loss: 0.9857\n",
      "Epoch: 58, Training Loss: 0.9887, Validation Loss: 0.9915\n",
      "Epoch: 59, Training Loss: 0.9946, Validation Loss: 0.9940\n",
      "Epoch: 60, Training Loss: 0.9972, Validation Loss: 0.9919\n",
      "Epoch: 61, Training Loss: 0.9951, Validation Loss: 0.9869\n",
      "Epoch: 62, Training Loss: 0.9899, Validation Loss: 0.9820\n",
      "Epoch: 63, Training Loss: 0.9849, Validation Loss: 0.9797\n",
      "Epoch: 64, Training Loss: 0.9825, Validation Loss: 0.9807\n",
      "Epoch: 65, Training Loss: 0.9833, Validation Loss: 0.9835\n",
      "Epoch: 66, Training Loss: 0.9860, Validation Loss: 0.9860\n",
      "Epoch: 67, Training Loss: 0.9884, Validation Loss: 0.9867\n",
      "Epoch: 68, Training Loss: 0.9891, Validation Loss: 0.9853\n",
      "Epoch: 69, Training Loss: 0.9877, Validation Loss: 0.9827\n",
      "Epoch: 70, Training Loss: 0.9852, Validation Loss: 0.9805\n",
      "Epoch: 71, Training Loss: 0.9831, Validation Loss: 0.9797\n",
      "Epoch: 72, Training Loss: 0.9824, Validation Loss: 0.9803\n",
      "Epoch: 73, Training Loss: 0.9831, Validation Loss: 0.9816\n",
      "Epoch: 74, Training Loss: 0.9845, Validation Loss: 0.9825\n",
      "Epoch: 75, Training Loss: 0.9854, Validation Loss: 0.9823\n",
      "Epoch: 76, Training Loss: 0.9853, Validation Loss: 0.9814\n",
      "Epoch: 77, Training Loss: 0.9842, Validation Loss: 0.9802\n",
      "Epoch: 78, Training Loss: 0.9831, Validation Loss: 0.9797\n",
      "Epoch: 79, Training Loss: 0.9824, Validation Loss: 0.9798\n",
      "Epoch: 80, Training Loss: 0.9825, Validation Loss: 0.9805\n",
      "Epoch: 81, Training Loss: 0.9831, Validation Loss: 0.9811\n",
      "Epoch: 82, Training Loss: 0.9836, Validation Loss: 0.9812\n",
      "Epoch: 83, Training Loss: 0.9838, Validation Loss: 0.9808\n",
      "Epoch: 84, Training Loss: 0.9834, Validation Loss: 0.9802\n",
      "Epoch: 85, Training Loss: 0.9828, Validation Loss: 0.9797\n",
      "Epoch: 86, Training Loss: 0.9824, Validation Loss: 0.9796\n",
      "Epoch: 87, Training Loss: 0.9823, Validation Loss: 0.9798\n",
      "Epoch: 88, Training Loss: 0.9826, Validation Loss: 0.9801\n",
      "Epoch: 89, Training Loss: 0.9829, Validation Loss: 0.9802\n",
      "Epoch: 90, Training Loss: 0.9830, Validation Loss: 0.9801\n",
      "Epoch: 91, Training Loss: 0.9829, Validation Loss: 0.9798\n",
      "Epoch: 92, Training Loss: 0.9826, Validation Loss: 0.9796\n",
      "Epoch: 93, Training Loss: 0.9823, Validation Loss: 0.9796\n",
      "Epoch: 94, Training Loss: 0.9823, Validation Loss: 0.9797\n",
      "Epoch: 95, Training Loss: 0.9824, Validation Loss: 0.9799\n",
      "Epoch: 96, Training Loss: 0.9825, Validation Loss: 0.9800\n",
      "Epoch: 97, Training Loss: 0.9826, Validation Loss: 0.9799\n",
      "Epoch: 98, Training Loss: 0.9825, Validation Loss: 0.9797\n",
      "Epoch: 99, Training Loss: 0.9824, Validation Loss: 0.9796\n",
      "Epoch: 100, Training Loss: 0.9823, Validation Loss: 0.9795\n",
      "Test Loss: 0.9841\n"
     ]
    }
   ],
   "source": [
    "# Training Loop\n",
    "def train(model, data, optimizer, criterion):\n",
    "    model.train()\n",
    "    if device != 'cpu':\n",
    "        data = data.to(device)\n",
    "    optimizer.zero_grad()\n",
    "    \n",
    "    pred = model(data.x_dict, data.edge_index_dict, data['user', 'rates', 'book'].edge_label_index)\n",
    "    loss = criterion(pred, data['user', 'rates', 'book'].edge_label.float())\n",
    "    loss.backward()\n",
    "    optimizer.step()\n",
    "    total_loss = loss.item()\n",
    "    return total_loss \n",
    "\n",
    "# Testing Loop\n",
    "def test(model, data, criterion):\n",
    "    model.eval()\n",
    "    with torch.no_grad():\n",
    "        if device != 'cpu':\n",
    "            data = data.to(device)\n",
    "        pred = model(data.x_dict, data.edge_index_dict, data['user', 'rates', 'book'].edge_label_index)\n",
    "        loss = criterion(pred, data['user', 'rates', 'book'].edge_label.float())\n",
    "        total_loss = loss.item()\n",
    "    return total_loss\n",
    "\n",
    "# Main training and testing routines\n",
    "optimizer = optim.Adam(model.parameters(), lr=0.005)\n",
    "criterion = nn.MSELoss()\n",
    "\n",
    "train_losses = []\n",
    "valid_losses = []\n",
    "\n",
    "num_epochs = 100\n",
    "for epoch in range(num_epochs):\n",
    "    train_loss = train(model, train_data, optimizer, criterion)\n",
    "    val_loss = test(model, val_data, criterion)\n",
    "    print(f'Epoch: {epoch+1}, Training Loss: {train_loss:.4f}, Validation Loss: {val_loss:.4f}')\n",
    "    train_losses.append(train_loss)\n",
    "    valid_losses.append(val_loss)\n",
    "\n",
    "# Optionally, after training, you can evaluate your model on the test dataset\n",
    "test_loss = test(model, test_data, criterion)\n",
    "print(f'Test Loss: {test_loss:.4f}')"
   ]
  },
  {
   "cell_type": "code",
   "execution_count": 20,
   "metadata": {},
   "outputs": [],
   "source": [
    "test_loss = test(model, test_data, criterion)"
   ]
  },
  {
   "cell_type": "code",
   "execution_count": 21,
   "metadata": {},
   "outputs": [
    {
     "name": "stdout",
     "output_type": "stream",
     "text": [
      "Test Loss: 0.9841\n"
     ]
    }
   ],
   "source": [
    "print(f'Test Loss: {test_loss:.4f}')"
   ]
  },
  {
   "cell_type": "code",
   "execution_count": 18,
   "metadata": {},
   "outputs": [
    {
     "data": {
      "image/png": "[encoded data removed]",
      "text/plain": [
       "<Figure size 1000x500 with 1 Axes>"
      ]
     },
     "metadata": {},
     "output_type": "display_data"
    }
   ],
   "source": [
    "import matplotlib.pyplot as plt\n",
    "import seaborn as sns\n",
    "\n",
    "# Plot the training and validation losses\n",
    "plt.figure(figsize=(10, 5))\n",
    "plt.plot(train_losses, label='Training Loss')\n",
    "plt.plot(valid_losses, label='Validation Loss')\n",
    "plt.xlabel('Epoch')\n",
    "plt.ylabel('Loss')\n",
    "plt.legend()\n",
    "plt.show()"
   ]
  },
  {
   "cell_type": "code",
   "execution_count": 19,
   "metadata": {},
   "outputs": [],
   "source": [
    "# Save model \n",
    "torch.save(model.state_dict(), \"model.pt\")"
   ]
  },
  {
   "cell_type": "markdown",
   "metadata": {},
   "source": [
    "## Validation & metrics"
   ]
  },
  {
   "cell_type": "code",
   "execution_count": 72,
   "metadata": {},
   "outputs": [
    {
     "data": {
      "text/plain": [
       "<All keys matched successfully>"
      ]
     },
     "execution_count": 72,
     "metadata": {},
     "output_type": "execute_result"
    }
   ],
   "source": [
    "model = Model(hidden_channels=10).to(device)\n",
    "model.load_state_dict(torch.load(\"model.pt\"))"
   ]
  },
  {
   "cell_type": "code",
   "execution_count": 73,
   "metadata": {},
   "outputs": [],
   "source": [
    "pred_review = model(test_data.x_dict, test_data.edge_index_dict, test_data['user', 'rates', 'book'].edge_label_index)"
   ]
  },
  {
   "cell_type": "code",
   "execution_count": 88,
   "metadata": {},
   "outputs": [
    {
     "data": {
      "text/plain": [
       "<Axes: >"
      ]
     },
     "execution_count": 88,
     "metadata": {},
     "output_type": "execute_result"
    },
    {
     "data": {
      "image/png": "[encoded data removed]",
      "text/plain": [
       "<Figure size 640x480 with 1 Axes>"
      ]
     },
     "metadata": {},
     "output_type": "display_data"
    }
   ],
   "source": [
    "import seaborn as sns\n",
    "sns.boxplot(pred_review.cpu().detach().numpy())"
   ]
  },
  {
   "cell_type": "code",
   "execution_count": 65,
   "metadata": {},
   "outputs": [
    {
     "data": {
      "text/plain": [
       "tensor([[40901,  5341,  3808,  ...,  8225, 49572,  3566],\n",
       "        [ 4893,  8331,  1225,  ...,  5389,  9960,  1551]])"
      ]
     },
     "execution_count": 65,
     "metadata": {},
     "output_type": "execute_result"
    }
   ],
   "source": [
    "test_data['user', 'rates', 'book'].edge_label_index"
   ]
  },
  {
   "cell_type": "code",
   "execution_count": 68,
   "metadata": {},
   "outputs": [
    {
     "data": {
      "text/plain": [
       "tensor([5, 4, 3,  ..., 5, 4, 4])"
      ]
     },
     "execution_count": 68,
     "metadata": {},
     "output_type": "execute_result"
    }
   ],
   "source": [
    "test_data['user', 'rates', 'book'].edge_label"
   ]
  },
  {
   "cell_type": "code",
   "execution_count": 74,
   "metadata": {},
   "outputs": [],
   "source": [
    "# Convert tensors to numpy arrays\n",
    "user_ids_np = test_data['user', 'rates', 'book'].edge_label_index[0].numpy()\n",
    "book_ids_np = test_data['user', 'rates', 'book'].edge_label_index[1].numpy()\n",
    "ratings_np = test_data['user', 'rates', 'book'].edge_label.numpy()\n",
    "ratings_pred_np = pred_review.detach().numpy()\n",
    "\n",
    "# Create a dictionary with the data\n",
    "data = {\n",
    "    'user_id': user_ids_np,\n",
    "    'book_id': book_ids_np,\n",
    "    'rating': ratings_np, \n",
    "    'predicted_rating': ratings_pred_np\n",
    "}\n",
    "\n",
    "# Create a pandas DataFrame\n",
    "df = pd.DataFrame(data)"
   ]
  },
  {
   "cell_type": "code",
   "execution_count": 82,
   "metadata": {},
   "outputs": [
    {
     "name": "stdout",
     "output_type": "stream",
     "text": [
      "Mean Precision@10: 0.7051810471239085\n",
      "Mean Recall@10: 0.4976877728353774\n",
      "Mean F1 Score@10: 0.5579174874272494\n"
     ]
    }
   ],
   "source": [
    "import sys\n",
    "sys.path.append('../src')\n",
    "from evaluation_metrics import *\n",
    "\n",
    "k = 10\n",
    "top_k_recommendations = get_top_k_recommendations(df, k)\n",
    "actual_items = get_actual_items(df) # ground truth\n",
    "\n",
    "# Evaluate the recommendations\n",
    "mean_precision, mean_recall, mean_f1 = evaluate_recommendations(top_k_recommendations, actual_items, k)\n",
    "print(f\"Mean Precision@{k}: {mean_precision}\")\n",
    "print(f\"Mean Recall@{k}: {mean_recall}\")\n",
    "print(f\"Mean F1 Score@{k}: {mean_f1}\")"
   ]
  },
  {
   "cell_type": "markdown",
   "metadata": {},
   "source": [
    "Matrix factorization:\n",
    "\n",
    "Mean Precision@10: 0.7722234424908242\n",
    "Mean Recall@10: 0.5475533441372822\n",
    "Mean F1 Score@10: 0.6128487333956821"
   ]
  },
  {
   "cell_type": "code",
   "execution_count": null,
   "metadata": {},
   "outputs": [],
   "source": [
    "todo\n",
    "visualization on how the data looks like\n",
    "\n",
    "\n",
    "report \n",
    "objective and motivation \n",
    "analysis of the data\n",
    "method: improving over matrix factorization baseline\n",
    "results\n",
    "future study: even an idea about how to use diversity"
   ]
  }
 ],
 "metadata": {
  "kernelspec": {
   "display_name": "networkML",
   "language": "python",
   "name": "python3"
  },
  "language_info": {
   "codemirror_mode": {
    "name": "ipython",
    "version": 3
   },
   "file_extension": ".py",
   "mimetype": "text/x-python",
   "name": "python",
   "nbconvert_exporter": "python",
   "pygments_lexer": "ipython3",
   "version": "3.10.13"
  }
 },
 "nbformat": 4,
 "nbformat_minor": 2
}
