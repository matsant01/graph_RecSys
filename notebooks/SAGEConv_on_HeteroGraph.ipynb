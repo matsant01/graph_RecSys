{
 "cells": [
  {
   "cell_type": "code",
   "execution_count": 111,
   "metadata": {},
   "outputs": [],
   "source": [
    "import pandas as pd\n",
    "import torch\n",
    "import torch_geometric as pyg\n",
    "\n",
    "from torch import nn\n",
    "import torch.optim as optim\n",
    "import torch.nn.functional as F\n",
    "from torch_geometric.loader import NeighborLoader\n",
    "\n",
    "import pandas as pd\n",
    "import networkx as nx\n",
    "import numpy as np\n",
    "from sklearn.preprocessing import MinMaxScaler\n",
    "\n",
    "from tqdm import tqdm\n",
    "\n",
    "from sentence_transformers import SentenceTransformer\n",
    "\n",
    "from torch_geometric.transforms import RandomLinkSplit, RandomNodeSplit\n",
    "import torch_geometric.transforms as T\n",
    "from torch_geometric.data import HeteroData\n",
    "import matplotlib.pyplot as plt\n",
    "\n",
    "from torch_geometric import seed_everything\n",
    "\n",
    "seed_everything(42)  # so that the results are reproducible\n"
   ]
  },
  {
   "cell_type": "code",
   "execution_count": 2,
   "metadata": {},
   "outputs": [
    {
     "name": "stdout",
     "output_type": "stream",
     "text": [
      "mps\n"
     ]
    }
   ],
   "source": [
    "if torch.cuda.is_available():\n",
    "    device = 'cuda'\n",
    "elif torch.backends.mps.is_available():\n",
    "    device = 'mps'\n",
    "else:\n",
    "    device = 'cpu'\n",
    "print(device)"
   ]
  },
  {
   "cell_type": "code",
   "execution_count": 3,
   "metadata": {},
   "outputs": [],
   "source": [
    "device = \"cpu\""
   ]
  },
  {
   "cell_type": "markdown",
   "metadata": {},
   "source": [
    "## Load data"
   ]
  },
  {
   "cell_type": "code",
   "execution_count": 183,
   "metadata": {},
   "outputs": [
    {
     "name": "stdout",
     "output_type": "stream",
     "text": [
      "Index(['book_id', 'title', 'authors'], dtype='object')\n"
     ]
    }
   ],
   "source": [
    "df_books = pd.read_csv('../data/books.csv')[['book_id', 'title', 'authors']]    # TODO: think about using also the columns\n",
    "\n",
    "df_ratings = pd.read_csv('../data/ratings.csv') #.sample(1000000)  # FIXME: remove the sampling on the final run\n",
    "\n",
    "print(df_books.columns)"
   ]
  },
  {
   "cell_type": "code",
   "execution_count": 133,
   "metadata": {},
   "outputs": [
    {
     "data": {
      "text/plain": [
       "<Axes: >"
      ]
     },
     "execution_count": 133,
     "metadata": {},
     "output_type": "execute_result"
    },
    {
     "data": {
      "image/png": "[encoded data removed]",
      "text/plain": [
       "<Figure size 640x480 with 1 Axes>"
      ]
     },
     "metadata": {},
     "output_type": "display_data"
    }
   ],
   "source": [
    "df_ratings.groupby('book_id').size().hist(bins=100)"
   ]
  },
  {
   "cell_type": "code",
   "execution_count": 134,
   "metadata": {},
   "outputs": [],
   "source": [
    "# Create features\n",
    "model = SentenceTransformer('all-MiniLM-L6-v2', device=device)"
   ]
  },
  {
   "cell_type": "code",
   "execution_count": 135,
   "metadata": {},
   "outputs": [
    {
     "name": "stderr",
     "output_type": "stream",
     "text": [
      "Batches: 100%|██████████| 313/313 [00:19<00:00, 15.78it/s]"
     ]
    },
    {
     "name": "stdout",
     "output_type": "stream",
     "text": [
      "Books features shape: torch.Size([10000, 384])\n"
     ]
    },
    {
     "name": "stderr",
     "output_type": "stream",
     "text": [
      "\n"
     ]
    }
   ],
   "source": [
    "# Books features\n",
    "df_books[\"text_to_embed\"] = \"Title: \" + df_books[\"title\"] + \" Authors: \" + df_books[\"authors\"]\n",
    "with torch.no_grad():\n",
    "    titles_emb = model.encode(df_books['text_to_embed'].values, device=device, show_progress_bar=True, batch_size=32)\n",
    "    \n",
    "del model\n",
    "torch.cuda.empty_cache()    \n",
    "\n",
    "books_features = torch.tensor(titles_emb)\n",
    "print(\"Books features shape:\", books_features.shape)\n",
    "\n",
    "# Users features: as we don't have any information we will use random features\n",
    "# users_features = torch.rand(df_ratings['user_id'].nunique(), 768, device=device)\n",
    "# print(\"Users features shape:\", users_features.shape)"
   ]
  },
  {
   "cell_type": "code",
   "execution_count": 136,
   "metadata": {},
   "outputs": [
    {
     "name": "stderr",
     "output_type": "stream",
     "text": [
      "Adding edges: 100%|██████████| 1000000/1000000 [00:41<00:00, 23943.01it/s]\n"
     ]
    },
    {
     "name": "stdout",
     "output_type": "stream",
     "text": [
      "degree centrality computed\n",
      "pagerank computed\n",
      "all metrics computed\n"
     ]
    },
    {
     "data": {
      "text/html": [
       "<div>\n",
       "<style scoped>\n",
       "    .dataframe tbody tr th:only-of-type {\n",
       "        vertical-align: middle;\n",
       "    }\n",
       "\n",
       "    .dataframe tbody tr th {\n",
       "        vertical-align: top;\n",
       "    }\n",
       "\n",
       "    .dataframe thead th {\n",
       "        text-align: right;\n",
       "    }\n",
       "</style>\n",
       "<table border=\"1\" class=\"dataframe\">\n",
       "  <thead>\n",
       "    <tr style=\"text-align: right;\">\n",
       "      <th></th>\n",
       "      <th>degree</th>\n",
       "      <th>pagerank</th>\n",
       "      <th>average_rating</th>\n",
       "    </tr>\n",
       "  </thead>\n",
       "  <tbody>\n",
       "    <tr>\n",
       "      <th>38567</th>\n",
       "      <td>0.004318</td>\n",
       "      <td>0.003838</td>\n",
       "      <td>0.897059</td>\n",
       "    </tr>\n",
       "    <tr>\n",
       "      <th>38072</th>\n",
       "      <td>0.005128</td>\n",
       "      <td>0.004453</td>\n",
       "      <td>0.875000</td>\n",
       "    </tr>\n",
       "    <tr>\n",
       "      <th>24383</th>\n",
       "      <td>0.008367</td>\n",
       "      <td>0.006467</td>\n",
       "      <td>0.742188</td>\n",
       "    </tr>\n",
       "    <tr>\n",
       "      <th>15705</th>\n",
       "      <td>0.006748</td>\n",
       "      <td>0.005679</td>\n",
       "      <td>0.826923</td>\n",
       "    </tr>\n",
       "    <tr>\n",
       "      <th>24319</th>\n",
       "      <td>0.006748</td>\n",
       "      <td>0.004500</td>\n",
       "      <td>0.625000</td>\n",
       "    </tr>\n",
       "  </tbody>\n",
       "</table>\n",
       "</div>"
      ],
      "text/plain": [
       "         degree  pagerank  average_rating\n",
       "38567  0.004318  0.003838        0.897059\n",
       "38072  0.005128  0.004453        0.875000\n",
       "24383  0.008367  0.006467        0.742188\n",
       "15705  0.006748  0.005679        0.826923\n",
       "24319  0.006748  0.004500        0.625000"
      ]
     },
     "execution_count": 136,
     "metadata": {},
     "output_type": "execute_result"
    }
   ],
   "source": [
    "# embedding users\n",
    "\n",
    "# # Create a bipartite graph\n",
    "B = nx.Graph()\n",
    "# Add nodes with the node attribute \"bipartite\"\n",
    "B.add_nodes_from(df_ratings['user_id'].unique(), bipartite=0)  # Users\n",
    "B.add_nodes_from(df_ratings['book_id'].unique(), bipartite=1)  # Books\n",
    "\n",
    "# Add edges between users and books\n",
    "for _, row in tqdm(df_ratings.iterrows(), total=df_ratings.shape[0], desc=\"Adding edges\"):\n",
    "    B.add_edge(row['user_id'], row['book_id'], weight=row['rating'])\n",
    "\n",
    "# Compute metrics\n",
    "centrality = nx.degree_centrality(B)\n",
    "print('degree centrality computed')\n",
    "pagerank = nx.pagerank(B, weight='weight')\n",
    "print('pagerank computed')\n",
    "average_rating = df_ratings.groupby('user_id')['rating'].mean()\n",
    "print('all metrics computed')\n",
    "\n",
    "# # Prepare feature vectors for users\n",
    "features = pd.DataFrame(index=df_ratings['user_id'].unique())\n",
    "features['degree'] = [centrality[node] for node in features.index]\n",
    "features['pagerank'] = [pagerank[node] for node in features.index]\n",
    "features['average_rating'] = [average_rating.get(node, 0) for node in features.index]  # Add average ratings\n",
    "\n",
    "# # Normalize features\n",
    "scaler = MinMaxScaler()\n",
    "features_scaled = pd.DataFrame(scaler.fit_transform(features), index=features.index, columns=features.columns)\n",
    "\n",
    "# # Display the normalized features\n",
    "users_features = features_scaled.to_numpy()\n",
    "\n",
    "features_scaled.head() "
   ]
  },
  {
   "cell_type": "code",
   "execution_count": 137,
   "metadata": {},
   "outputs": [
    {
     "data": {
      "text/html": [
       "<div>\n",
       "<style scoped>\n",
       "    .dataframe tbody tr th:only-of-type {\n",
       "        vertical-align: middle;\n",
       "    }\n",
       "\n",
       "    .dataframe tbody tr th {\n",
       "        vertical-align: top;\n",
       "    }\n",
       "\n",
       "    .dataframe thead th {\n",
       "        text-align: right;\n",
       "    }\n",
       "</style>\n",
       "<table border=\"1\" class=\"dataframe\">\n",
       "  <thead>\n",
       "    <tr style=\"text-align: right;\">\n",
       "      <th></th>\n",
       "      <th>user_id</th>\n",
       "      <th>book_id</th>\n",
       "      <th>rating</th>\n",
       "      <th>title</th>\n",
       "      <th>authors</th>\n",
       "      <th>text_to_embed</th>\n",
       "    </tr>\n",
       "  </thead>\n",
       "  <tbody>\n",
       "    <tr>\n",
       "      <th>0</th>\n",
       "      <td>38567</td>\n",
       "      <td>72</td>\n",
       "      <td>5</td>\n",
       "      <td>The Shining (The Shining #1)</td>\n",
       "      <td>Stephen King</td>\n",
       "      <td>Title: The Shining (The Shining #1) Authors: S...</td>\n",
       "    </tr>\n",
       "    <tr>\n",
       "      <th>1</th>\n",
       "      <td>38072</td>\n",
       "      <td>6</td>\n",
       "      <td>4</td>\n",
       "      <td>The Fault in Our Stars</td>\n",
       "      <td>John Green</td>\n",
       "      <td>Title: The Fault in Our Stars Authors: John Green</td>\n",
       "    </tr>\n",
       "    <tr>\n",
       "      <th>2</th>\n",
       "      <td>24383</td>\n",
       "      <td>12</td>\n",
       "      <td>4</td>\n",
       "      <td>Divergent (Divergent, #1)</td>\n",
       "      <td>Veronica Roth</td>\n",
       "      <td>Title: Divergent (Divergent, #1) Authors: Vero...</td>\n",
       "    </tr>\n",
       "    <tr>\n",
       "      <th>3</th>\n",
       "      <td>15705</td>\n",
       "      <td>3505</td>\n",
       "      <td>5</td>\n",
       "      <td>Giovanni's Room</td>\n",
       "      <td>James     Baldwin</td>\n",
       "      <td>Title: Giovanni's Room Authors: James     Baldwin</td>\n",
       "    </tr>\n",
       "    <tr>\n",
       "      <th>4</th>\n",
       "      <td>24319</td>\n",
       "      <td>8449</td>\n",
       "      <td>2</td>\n",
       "      <td>Wench</td>\n",
       "      <td>Dolen Perkins-Valdez</td>\n",
       "      <td>Title: Wench Authors: Dolen Perkins-Valdez</td>\n",
       "    </tr>\n",
       "  </tbody>\n",
       "</table>\n",
       "</div>"
      ],
      "text/plain": [
       "   user_id  book_id  rating                         title  \\\n",
       "0    38567       72       5  The Shining (The Shining #1)   \n",
       "1    38072        6       4        The Fault in Our Stars   \n",
       "2    24383       12       4     Divergent (Divergent, #1)   \n",
       "3    15705     3505       5               Giovanni's Room   \n",
       "4    24319     8449       2                         Wench   \n",
       "\n",
       "                authors                                      text_to_embed  \n",
       "0          Stephen King  Title: The Shining (The Shining #1) Authors: S...  \n",
       "1            John Green  Title: The Fault in Our Stars Authors: John Green  \n",
       "2         Veronica Roth  Title: Divergent (Divergent, #1) Authors: Vero...  \n",
       "3     James     Baldwin  Title: Giovanni's Room Authors: James     Baldwin  \n",
       "4  Dolen Perkins-Valdez         Title: Wench Authors: Dolen Perkins-Valdez  "
      ]
     },
     "execution_count": 137,
     "metadata": {},
     "output_type": "execute_result"
    }
   ],
   "source": [
    "# Merge the two dataframes keeping user_id, book_id, rating, title, authors\n",
    "df_ratings = pd.merge(df_ratings, df_books, on='book_id')\n",
    "df_ratings.head()"
   ]
  },
  {
   "cell_type": "code",
   "execution_count": 138,
   "metadata": {},
   "outputs": [
    {
     "name": "stdout",
     "output_type": "stream",
     "text": [
      "Mapping of user IDs to consecutive values:\n",
      "==========================================\n",
      "   user_id  mapped_user_id\n",
      "0    38567               0\n",
      "1    38072               1\n",
      "2    24383               2\n",
      "3    15705               3\n",
      "4    24319               4\n",
      "\n",
      "Mapping of book IDs to consecutive values:\n",
      "===========================================\n",
      "   book_id  mapped_book_id\n",
      "0       72               0\n",
      "1        6               1\n",
      "2       12               2\n",
      "3     3505               3\n",
      "4     8449               4\n",
      "\n"
     ]
    }
   ],
   "source": [
    "# Create a mapping from the user_id to a unique consecutive value in the range [0, num_users]:\n",
    "unique_user_id = df_ratings['user_id'].unique()\n",
    "unique_user_id = pd.DataFrame(data={\n",
    "    'user_id': unique_user_id, \n",
    "    'mapped_user_id': pd.RangeIndex(len(unique_user_id))\n",
    "    })\n",
    "print(\"Mapping of user IDs to consecutive values:\")\n",
    "print(\"==========================================\")\n",
    "print(unique_user_id.head())\n",
    "print()\n",
    "\n",
    "# Create a mapping from the book_id to a unique consecutive value in the range [0, num_books]:\n",
    "unique_book_id = df_ratings['book_id'].unique()\n",
    "unique_book_id = pd.DataFrame(data={\n",
    "    'book_id': unique_book_id,\n",
    "    'mapped_book_id': pd.RangeIndex(len(unique_book_id))\n",
    "    })\n",
    "print(\"Mapping of book IDs to consecutive values:\")\n",
    "print(\"===========================================\")\n",
    "print(unique_book_id.head())\n",
    "print()"
   ]
  },
  {
   "cell_type": "code",
   "execution_count": 176,
   "metadata": {},
   "outputs": [
    {
     "name": "stdout",
     "output_type": "stream",
     "text": [
      "tensor([[34003, 13220, 36236, 10564, 42855,   992, 15619, 20032, 38445, 25957],\n",
      "        [  233,   174,  4830,  2420,  5046,  1131,  7506,   811,  6268,  7979]])\n"
     ]
    }
   ],
   "source": [
    "df_ratings = df_ratings.merge(unique_user_id, on='user_id')\n",
    "df_ratings = df_ratings.merge(unique_book_id, on='book_id')\n",
    "\n",
    "# With this, we are ready to create the edge_index representation in COO format\n",
    "# following the PyTorch Geometric semantics:\n",
    "edge_index = torch.stack([\n",
    "    torch.tensor(df_ratings['mapped_user_id'].values), \n",
    "    torch.tensor(df_ratings['mapped_book_id'].values)]\n",
    "    , dim=0)\n",
    "\n",
    "print(edge_index[:, :10])"
   ]
  },
  {
   "cell_type": "code",
   "execution_count": 175,
   "metadata": {},
   "outputs": [
    {
     "name": "stdout",
     "output_type": "stream",
     "text": [
      "tensor([[0, 1, 2, 3, 4, 5, 6, 7, 8, 9],\n",
      "        [0, 1, 2, 3, 4, 5, 6, 7, 8, 9]])\n"
     ]
    }
   ],
   "source": [
    "print(edge_index[:, :10])"
   ]
  },
  {
   "cell_type": "code",
   "execution_count": null,
   "metadata": {},
   "outputs": [
    {
     "name": "stdout",
     "output_type": "stream",
     "text": [
      "53423 53423\n"
     ]
    },
    {
     "data": {
      "text/plain": [
       "HeteroData(\n",
       "  user={ x=[53423, 3] },\n",
       "  book={ x=[10000, 384] },\n",
       "  (user, rates, book)={\n",
       "    edge_index=[2, 1000000],\n",
       "    edge_label=[1000000],\n",
       "  },\n",
       "  (book, rev_rates, user)={ edge_index=[2, 1000000] }\n",
       ")"
      ]
     },
     "execution_count": 140,
     "metadata": {},
     "output_type": "execute_result"
    }
   ],
   "source": [
    "\n",
    "# Create the heterogeneous graph data object:\n",
    "data = HeteroData()\n",
    "\n",
    "# Add the user nodes:\n",
    "data['user'].x = torch.tensor(users_features,).float()  # (num_users, num_users_features)\n",
    "\n",
    "# Add the book nodes:\n",
    "data['book'].x = torch.tensor(titles_emb,).float()  # (num_books, num_books_features)\n",
    "\n",
    "# Add the rating edges:\n",
    "data['user', 'rates', 'book'].edge_index = edge_index  # (2, num_ratings)\n",
    "\n",
    "# Add the rating labels:\n",
    "rating = torch.from_numpy(df_ratings['rating'].values).float()\n",
    "data['user', 'rates', 'book'].edge_label = rating  # [num_ratings]\n",
    "\n",
    "# We also need to make sure to add the reverse edges from books to users\n",
    "# in order to let a GNN be able to pass messages in both directions.\n",
    "# We can leverage the `T.ToUndirected()` transform for this from PyG:\n",
    "data = T.ToUndirected()(data)\n",
    "\n",
    "# With the above transformation we also got reversed labels for the edges.\n",
    "# We remove them\n",
    "del data['book', 'rev_rates', 'user'].edge_label\n",
    "\n",
    "print(data['user'].num_nodes,len(unique_user_id))\n",
    "assert data['user'].num_nodes == len(unique_user_id)\n",
    "assert data['user', 'rates', 'book'].num_edges == len(df_ratings)\n",
    "\n",
    "data"
   ]
  },
  {
   "cell_type": "markdown",
   "metadata": {},
   "source": [
    "## Splitting data"
   ]
  },
  {
   "cell_type": "code",
   "execution_count": 143,
   "metadata": {},
   "outputs": [],
   "source": [
    "## designed for transductive learning\n",
    "tfs = RandomLinkSplit(is_undirected=True, \n",
    "                      num_val=0.1,\n",
    "                      num_test=0.1,\n",
    "                      neg_sampling_ratio=0.0,\n",
    "                      add_negative_train_samples=False,\n",
    "                      edge_types=[('user', 'rates', 'book')],\n",
    "                      rev_edge_types=[('book', 'rev_rates', 'user')],\n",
    "                      )\n",
    "\n",
    "train_data, val_data, test_data = tfs(data)"
   ]
  },
  {
   "cell_type": "code",
   "execution_count": 144,
   "metadata": {},
   "outputs": [
    {
     "data": {
      "text/plain": [
       "HeteroData(\n",
       "  user={ x=[53423, 3] },\n",
       "  book={ x=[10000, 384] },\n",
       "  (user, rates, book)={\n",
       "    edge_index=[2, 1000000],\n",
       "    edge_label=[1000000],\n",
       "  },\n",
       "  (book, rev_rates, user)={ edge_index=[2, 1000000] }\n",
       ")"
      ]
     },
     "execution_count": 144,
     "metadata": {},
     "output_type": "execute_result"
    }
   ],
   "source": [
    "data"
   ]
  },
  {
   "cell_type": "code",
   "execution_count": 145,
   "metadata": {},
   "outputs": [
    {
     "data": {
      "text/plain": [
       "(HeteroData(\n",
       "   user={ x=[53423, 3] },\n",
       "   book={ x=[10000, 384] },\n",
       "   (user, rates, book)={\n",
       "     edge_index=[2, 800000],\n",
       "     edge_label=[800000],\n",
       "     edge_label_index=[2, 800000],\n",
       "   },\n",
       "   (book, rev_rates, user)={ edge_index=[2, 800000] }\n",
       " ),\n",
       " HeteroData(\n",
       "   user={ x=[53423, 3] },\n",
       "   book={ x=[10000, 384] },\n",
       "   (user, rates, book)={\n",
       "     edge_index=[2, 800000],\n",
       "     edge_label=[100000],\n",
       "     edge_label_index=[2, 100000],\n",
       "   },\n",
       "   (book, rev_rates, user)={ edge_index=[2, 800000] }\n",
       " ),\n",
       " HeteroData(\n",
       "   user={ x=[53423, 3] },\n",
       "   book={ x=[10000, 384] },\n",
       "   (user, rates, book)={\n",
       "     edge_index=[2, 900000],\n",
       "     edge_label=[100000],\n",
       "     edge_label_index=[2, 100000],\n",
       "   },\n",
       "   (book, rev_rates, user)={ edge_index=[2, 900000] }\n",
       " ))"
      ]
     },
     "execution_count": 145,
     "metadata": {},
     "output_type": "execute_result"
    }
   ],
   "source": [
    "# training has 80% of the edges (plus their label) and the reverse edges\n",
    "# validation has 80% of the edges and the reverse edges, plus 10% of other edges with their label\n",
    "# test has 90% of the edges and the reverse edges, plus 10% of other edges with their label\n",
    "\n",
    "# only tthe first one can be used for training because we have the label of the edges used to compute the embeddings. So with those we can compute the embedding and udpate how these embeddings get computed (weights in the GNN). \n",
    "# For the validation and test we have some edges which we use to compute the embeddings (the same ones as before for the validation), but we'll use other edges to do the validation. \n",
    "train_data, val_data, test_data"
   ]
  },
  {
   "cell_type": "code",
   "execution_count": 146,
   "metadata": {},
   "outputs": [],
   "source": [
    "# saving splitted data so that the same dataset can be used for matrix factorization in order to have a fair comparison\n",
    "\n",
    "# train set\n",
    "train_labels = train_data['user', 'rates', 'book'].edge_label\n",
    "train_label_index =  train_data['user', 'rates', 'book'].edge_label_index\n",
    "\n",
    "concat = torch.cat([train_label_index, train_labels.unsqueeze(0)], dim=0)\n",
    "train_set = pd.DataFrame(concat.T.numpy(), columns=['user', 'book', 'rating'])\n",
    "train_set.to_csv('../data/splitted_data/train_set.csv', index=False)\n",
    "\n",
    "# test set\n",
    "test_labels = test_data['user', 'rates', 'book'].edge_label\n",
    "test_label_index =  test_data['user', 'rates', 'book'].edge_label_index\n",
    "\n",
    "concat = torch.cat([test_label_index, test_labels.unsqueeze(0)], dim=0)\n",
    "test_set = pd.DataFrame(concat.T.numpy(), columns=['user', 'book', 'rating'])\n",
    "test_set.to_csv('../data/splitted_data/test_set.csv', index=False)"
   ]
  },
  {
   "cell_type": "markdown",
   "metadata": {},
   "source": [
    "## Creating the model"
   ]
  },
  {
   "cell_type": "code",
   "execution_count": 147,
   "metadata": {},
   "outputs": [
    {
     "name": "stdout",
     "output_type": "stream",
     "text": [
      "Model(\n",
      "  (encoder): GraphModule(\n",
      "    (conv1): ModuleDict(\n",
      "      (user__rates__book): SAGEConv((-1, -1), 100, aggr=mean)\n",
      "      (book__rev_rates__user): SAGEConv((-1, -1), 100, aggr=mean)\n",
      "    )\n",
      "    (conv2): ModuleDict(\n",
      "      (user__rates__book): SAGEConv((-1, -1), 100, aggr=mean)\n",
      "      (book__rev_rates__user): SAGEConv((-1, -1), 100, aggr=mean)\n",
      "    )\n",
      "    (conv3): ModuleDict(\n",
      "      (user__rates__book): SAGEConv((-1, -1), 100, aggr=mean)\n",
      "      (book__rev_rates__user): SAGEConv((-1, -1), 100, aggr=mean)\n",
      "    )\n",
      "    (conv4): ModuleDict(\n",
      "      (user__rates__book): SAGEConv((-1, -1), 100, aggr=mean)\n",
      "      (book__rev_rates__user): SAGEConv((-1, -1), 100, aggr=mean)\n",
      "    )\n",
      "  )\n",
      "  (decoder): EdgeDecoder(\n",
      "    (lin1): Linear(in_features=200, out_features=100, bias=True)\n",
      "    (lin2): Linear(in_features=100, out_features=100, bias=True)\n",
      "    (lin3): Linear(in_features=100, out_features=1, bias=True)\n",
      "  )\n",
      ")\n"
     ]
    }
   ],
   "source": [
    "from torch_geometric.nn import SAGEConv, to_hetero\n",
    "\n",
    "class GNNEncoder(torch.nn.Module):\n",
    "    def __init__(self, hidden_channels, out_channels):\n",
    "        super().__init__()\n",
    "        self.conv1 = SAGEConv((-1, -1), hidden_channels)\n",
    "        self.conv2 = SAGEConv((-1, -1), hidden_channels)\n",
    "        self.conv3 = SAGEConv((-1, -1), hidden_channels)\n",
    "        self.conv4 = SAGEConv((-1, -1), out_channels)\n",
    "\n",
    "    def forward(self, x, edge_index):\n",
    "        x = self.conv1(x, edge_index).relu()\n",
    "        x = self.conv2(x, edge_index).relu()\n",
    "        x = self.conv3(x, edge_index).relu()\n",
    "        x = self.conv4(x, edge_index)\n",
    "        return x\n",
    "\n",
    "\n",
    "class EdgeDecoder(torch.nn.Module):\n",
    "    def __init__(self, hidden_channels):\n",
    "        super().__init__()\n",
    "        self.lin1 = torch.nn.Linear(2 * hidden_channels, hidden_channels)\n",
    "        self.lin2 = torch.nn.Linear(hidden_channels, hidden_channels)\n",
    "        self.lin3 = torch.nn.Linear(hidden_channels, 1)\n",
    "\n",
    "    def forward(self, z_dict, edge_label_index):\n",
    "        row, col = edge_label_index\n",
    "        z = torch.cat([z_dict['user'][row], z_dict['book'][col]], dim=-1)\n",
    "\n",
    "        z = self.lin1(z).relu()\n",
    "        z = self.lin2(z).relu()\n",
    "        z = self.lin3(z)\n",
    "        return z.view(-1)\n",
    "\n",
    "\n",
    "class Model(torch.nn.Module):\n",
    "    def __init__(self, hidden_channels):\n",
    "        super().__init__()\n",
    "        self.encoder = GNNEncoder(hidden_channels, hidden_channels)\n",
    "        self.encoder = to_hetero(self.encoder, data.metadata(), aggr='sum')\n",
    "        self.decoder = EdgeDecoder(hidden_channels)\n",
    "\n",
    "    def forward(self, x_dict, edge_index_dict, edge_label_index):\n",
    "        z_dict = self.encoder(x_dict, edge_index_dict)\n",
    "        return self.decoder(z_dict, edge_label_index)\n",
    "\n",
    "\n",
    "model = Model(hidden_channels=100).to(device)\n",
    "print(model)"
   ]
  },
  {
   "cell_type": "code",
   "execution_count": 148,
   "metadata": {},
   "outputs": [],
   "source": [
    "from torch_geometric.loader import HGTLoader\n",
    "\n",
    "train_loader = HGTLoader(\n",
    "    train_data,\n",
    "    num_samples=[1024] * 4,  \n",
    "    shuffle=True,\n",
    "    batch_size=128,\n",
    "    input_nodes=(\"user\", None),  # setting to None means that we will use all nodes\n",
    ")\n",
    "\n",
    "val_loader = HGTLoader(\n",
    "    val_data,\n",
    "    num_samples=[1024] * 4,\n",
    "    shuffle=False,\n",
    "    batch_size=128,\n",
    "    input_nodes=(\"user\", None),\n",
    ")\n",
    "\n",
    "# NOTE: also the reverse edges are sampled"
   ]
  },
  {
   "cell_type": "code",
   "execution_count": 182,
   "metadata": {},
   "outputs": [
    {
     "name": "stdout",
     "output_type": "stream",
     "text": [
      "HeteroData(\n",
      "  user={\n",
      "    x=[3200, 3],\n",
      "    n_id=[3200],\n",
      "    input_id=[128],\n",
      "    batch_size=128,\n",
      "  },\n",
      "  book={\n",
      "    x=[3422, 384],\n",
      "    n_id=[3422],\n",
      "  },\n",
      "  (user, rates, book)={\n",
      "    edge_index=[2, 13966],\n",
      "    edge_label=[13966],\n",
      "    edge_label_index=[2, 13966],\n",
      "    e_id=[13966],\n",
      "  },\n",
      "  (book, rev_rates, user)={\n",
      "    edge_index=[2, 42453],\n",
      "    e_id=[42453],\n",
      "  }\n",
      ")\n",
      "10030\n"
     ]
    }
   ],
   "source": [
    "# TODO: \n",
    "\n",
    "for n, p in enumerate(train_loader):\n",
    "    print(p)\n",
    "    # print(p['user'].input_id)\n",
    "    print(len(p['user', 'rates', 'book'].edge_label_index[0].unique()) )\n",
    "    for index in p['user', 'rates', 'book'].edge_label_index[0]:\n",
    "        if index not in p['user'].input_id:\n",
    "            print(index) # shows that edge label index aren't in the input\n",
    "            # The sample for the users and (user, rates, book) is independent. that's why we need to pass all the nodes embeddings to the model\n",
    "    if n == 0:\n",
    "        break"
   ]
  },
  {
   "cell_type": "code",
   "execution_count": 150,
   "metadata": {},
   "outputs": [
    {
     "data": {
      "text/plain": [
       "{'user': tensor([[4.3185e-03, 3.8381e-03, 8.9706e-01],\n",
       "         [5.1282e-03, 4.4527e-03, 8.7500e-01],\n",
       "         [8.3671e-03, 6.4668e-03, 7.4219e-01],\n",
       "         ...,\n",
       "         [0.0000e+00, 9.8732e-05, 1.0000e+00],\n",
       "         [0.0000e+00, 1.0878e-04, 5.0000e-01],\n",
       "         [0.0000e+00, 1.2712e-04, 5.0000e-01]]),\n",
       " 'book': tensor([[ 0.0317, -0.0143, -0.0042,  ..., -0.0083, -0.0774,  0.0136],\n",
       "         [-0.0539,  0.0106,  0.0059,  ...,  0.0068, -0.0008,  0.0677],\n",
       "         [ 0.0088,  0.0140,  0.0650,  ..., -0.0836,  0.0070,  0.0468],\n",
       "         ...,\n",
       "         [-0.0520,  0.0453,  0.0045,  ..., -0.0343, -0.0043, -0.0555],\n",
       "         [ 0.0411, -0.0194,  0.0850,  ..., -0.0029,  0.0665,  0.0228],\n",
       "         [-0.0981,  0.0178,  0.0294,  ..., -0.0602,  0.0098,  0.0154]])}"
      ]
     },
     "execution_count": 150,
     "metadata": {},
     "output_type": "execute_result"
    }
   ],
   "source": [
    "data.x_dict"
   ]
  },
  {
   "cell_type": "code",
   "execution_count": 151,
   "metadata": {},
   "outputs": [
    {
     "name": "stderr",
     "output_type": "stream",
     "text": [
      "100%|██████████| 418/418 [02:53<00:00,  2.41it/s]\n"
     ]
    },
    {
     "name": "stdout",
     "output_type": "stream",
     "text": [
      "Epoch: 1, Training Loss: 1.7775, Validation Loss: 0.7469\n"
     ]
    },
    {
     "name": "stderr",
     "output_type": "stream",
     "text": [
      "100%|██████████| 418/418 [02:47<00:00,  2.50it/s]\n"
     ]
    },
    {
     "name": "stdout",
     "output_type": "stream",
     "text": [
      "Epoch: 2, Training Loss: 0.6922, Validation Loss: 0.7445\n"
     ]
    },
    {
     "name": "stderr",
     "output_type": "stream",
     "text": [
      "100%|██████████| 418/418 [02:53<00:00,  2.41it/s]\n"
     ]
    },
    {
     "name": "stdout",
     "output_type": "stream",
     "text": [
      "Epoch: 3, Training Loss: 0.6807, Validation Loss: 0.7323\n"
     ]
    },
    {
     "name": "stderr",
     "output_type": "stream",
     "text": [
      "100%|██████████| 418/418 [02:49<00:00,  2.47it/s]\n"
     ]
    },
    {
     "name": "stdout",
     "output_type": "stream",
     "text": [
      "Epoch: 4, Training Loss: 0.6844, Validation Loss: 0.7343\n"
     ]
    },
    {
     "name": "stderr",
     "output_type": "stream",
     "text": [
      "100%|██████████| 418/418 [02:50<00:00,  2.45it/s]\n"
     ]
    },
    {
     "name": "stdout",
     "output_type": "stream",
     "text": [
      "Epoch: 5, Training Loss: 0.6672, Validation Loss: 0.7246\n"
     ]
    },
    {
     "name": "stderr",
     "output_type": "stream",
     "text": [
      "100%|██████████| 418/418 [02:55<00:00,  2.38it/s]\n"
     ]
    },
    {
     "name": "stdout",
     "output_type": "stream",
     "text": [
      "Epoch: 6, Training Loss: 0.6641, Validation Loss: 0.7211\n"
     ]
    },
    {
     "name": "stderr",
     "output_type": "stream",
     "text": [
      "100%|██████████| 418/418 [02:57<00:00,  2.35it/s]\n"
     ]
    },
    {
     "name": "stdout",
     "output_type": "stream",
     "text": [
      "Epoch: 7, Training Loss: 0.6600, Validation Loss: 0.7183\n"
     ]
    },
    {
     "name": "stderr",
     "output_type": "stream",
     "text": [
      "100%|██████████| 418/418 [02:56<00:00,  2.37it/s]\n"
     ]
    },
    {
     "name": "stdout",
     "output_type": "stream",
     "text": [
      "Epoch: 8, Training Loss: 0.6593, Validation Loss: 0.7172\n"
     ]
    },
    {
     "name": "stderr",
     "output_type": "stream",
     "text": [
      "100%|██████████| 418/418 [02:59<00:00,  2.32it/s]\n"
     ]
    },
    {
     "name": "stdout",
     "output_type": "stream",
     "text": [
      "Epoch: 9, Training Loss: 0.6509, Validation Loss: 0.7160\n"
     ]
    },
    {
     "name": "stderr",
     "output_type": "stream",
     "text": [
      "100%|██████████| 418/418 [03:04<00:00,  2.27it/s]\n"
     ]
    },
    {
     "name": "stdout",
     "output_type": "stream",
     "text": [
      "Epoch: 10, Training Loss: 0.6500, Validation Loss: 0.7249\n"
     ]
    }
   ],
   "source": [
    "# Training Loop\n",
    "def train(model, data_loader, optimizer, criterion):\n",
    "    model.train()\n",
    "    total_loss = 0\n",
    "    for batch in tqdm(data_loader):\n",
    "        # print(p['user', 'rates', 'book'].edge_label_index.max())\n",
    "        batch = batch.to(device)\n",
    "        optimizer.zero_grad()\n",
    "        pred = model(data.x_dict, batch.edge_index_dict, batch['user', 'rates', 'book'].edge_label_index)\n",
    "        loss = criterion(pred, batch['user', 'rates', 'book'].edge_label.float())\n",
    "        loss.backward()\n",
    "        optimizer.step()\n",
    "        total_loss += loss.item()\n",
    "    return total_loss / len(train_loader)\n",
    "\n",
    "# Testing Loop\n",
    "def test(model, data_loader, criterion):\n",
    "    model.eval()\n",
    "    total_loss = 0\n",
    "    with torch.no_grad():\n",
    "        for batch in data_loader:\n",
    "            batch = batch.to(device)\n",
    "            pred = model(data.x_dict, batch.edge_index_dict, batch['user', 'rates', 'book'].edge_label_index)\n",
    "            loss = criterion(pred, batch['user', 'rates', 'book'].edge_label.float())\n",
    "            total_loss += loss.item()\n",
    "    return total_loss / len(train_loader)\n",
    "\n",
    "# Main training and testing routines\n",
    "optimizer = optim.Adam(model.parameters(), lr=0.01)\n",
    "criterion = nn.MSELoss()\n",
    "\n",
    "train_losses = []\n",
    "val_losses = []\n",
    "\n",
    "num_epochs = 10\n",
    "for epoch in range(num_epochs):\n",
    "    train_loss = train(model, train_loader, optimizer, criterion)\n",
    "    val_loss = test(model, val_loader, criterion)\n",
    "    \n",
    "    # val_loss = test(model, val_data, criterion)\n",
    "    print(f'Epoch: {epoch+1}, Training Loss: {train_loss:.4f}, Validation Loss: {val_loss:.4f}')\n",
    "    val_losses.append(val_loss)\n",
    "    train_losses.append(train_loss)\n",
    "\n",
    "# Optionally, after training, you can evaluate your model on the test dataset\n",
    "# test_loss = test(model, test_data, criterion)\n",
    "# print(f'Test Loss: {test_loss:.4f}')\n"
   ]
  },
  {
   "cell_type": "code",
   "execution_count": 194,
   "metadata": {},
   "outputs": [
    {
     "data": {
      "text/plain": [
       "(418, 417.59999999999997)"
      ]
     },
     "execution_count": 194,
     "metadata": {},
     "output_type": "execute_result"
    }
   ],
   "source": []
  },
  {
   "cell_type": "code",
   "execution_count": 152,
   "metadata": {},
   "outputs": [],
   "source": [
    "# Save model \n",
    "torch.save(model.state_dict(), \"model.pt\")"
   ]
  },
  {
   "cell_type": "code",
   "execution_count": 154,
   "metadata": {},
   "outputs": [
    {
     "data": {
      "image/png": "[encoded data removed]",
      "text/plain": [
       "<Figure size 1000x500 with 1 Axes>"
      ]
     },
     "metadata": {},
     "output_type": "display_data"
    }
   ],
   "source": [
    "import matplotlib.pyplot as plt\n",
    "import seaborn as sns\n",
    "\n",
    "# Plot the training and validation losses\n",
    "plt.figure(figsize=(10, 5))\n",
    "plt.plot(train_losses[1:], label='Training Loss')\n",
    "plt.plot(val_losses[1:], label='Validation Loss')\n",
    "plt.xlabel('Epoch')\n",
    "plt.ylabel('Loss')\n",
    "plt.legend()\n",
    "plt.show()"
   ]
  },
  {
   "cell_type": "code",
   "execution_count": null,
   "metadata": {},
   "outputs": [],
   "source": [
    "# Save model \n",
    "torch.save(model.state_dict(), \"model.pt\")"
   ]
  },
  {
   "cell_type": "markdown",
   "metadata": {},
   "source": [
    "## Validation & metrics"
   ]
  },
  {
   "cell_type": "code",
   "execution_count": null,
   "metadata": {},
   "outputs": [],
   "source": [
    "model = Model(hidden_channels=100).to(device)\n",
    "model.load_state_dict(torch.load(\"model.pt\"))"
   ]
  },
  {
   "cell_type": "code",
   "execution_count": 155,
   "metadata": {},
   "outputs": [],
   "source": [
    "# compute the mebedding using 90% of the edges, predict ratings for the last 10% of the edges\n",
    "# on these prediction we can compute the MSE\n",
    "pred_review = model(test_data.x_dict, test_data.edge_index_dict, test_data['user', 'rates', 'book'].edge_label_index)"
   ]
  },
  {
   "cell_type": "code",
   "execution_count": 156,
   "metadata": {},
   "outputs": [
    {
     "data": {
      "text/plain": [
       "<Axes: >"
      ]
     },
     "execution_count": 156,
     "metadata": {},
     "output_type": "execute_result"
    },
    {
     "data": {
      "image/png": "[encoded data removed]",
      "text/plain": [
       "<Figure size 640x480 with 1 Axes>"
      ]
     },
     "metadata": {},
     "output_type": "display_data"
    }
   ],
   "source": [
    "import seaborn as sns\n",
    "sns.boxplot(pred_review.cpu().detach().numpy())"
   ]
  },
  {
   "cell_type": "code",
   "execution_count": 185,
   "metadata": {},
   "outputs": [
    {
     "data": {
      "text/html": [
       "<div>\n",
       "<style scoped>\n",
       "    .dataframe tbody tr th:only-of-type {\n",
       "        vertical-align: middle;\n",
       "    }\n",
       "\n",
       "    .dataframe tbody tr th {\n",
       "        vertical-align: top;\n",
       "    }\n",
       "\n",
       "    .dataframe thead th {\n",
       "        text-align: right;\n",
       "    }\n",
       "</style>\n",
       "<table border=\"1\" class=\"dataframe\">\n",
       "  <thead>\n",
       "    <tr style=\"text-align: right;\">\n",
       "      <th></th>\n",
       "      <th>user_id</th>\n",
       "      <th>book_id</th>\n",
       "      <th>rating</th>\n",
       "      <th>predicted_rating</th>\n",
       "    </tr>\n",
       "  </thead>\n",
       "  <tbody>\n",
       "    <tr>\n",
       "      <th>0</th>\n",
       "      <td>25308</td>\n",
       "      <td>105</td>\n",
       "      <td>5.0</td>\n",
       "      <td>3.561863</td>\n",
       "    </tr>\n",
       "    <tr>\n",
       "      <th>1</th>\n",
       "      <td>5131</td>\n",
       "      <td>249</td>\n",
       "      <td>2.0</td>\n",
       "      <td>4.086386</td>\n",
       "    </tr>\n",
       "    <tr>\n",
       "      <th>2</th>\n",
       "      <td>36528</td>\n",
       "      <td>3940</td>\n",
       "      <td>5.0</td>\n",
       "      <td>4.779587</td>\n",
       "    </tr>\n",
       "    <tr>\n",
       "      <th>3</th>\n",
       "      <td>42575</td>\n",
       "      <td>3793</td>\n",
       "      <td>5.0</td>\n",
       "      <td>4.548401</td>\n",
       "    </tr>\n",
       "    <tr>\n",
       "      <th>4</th>\n",
       "      <td>15566</td>\n",
       "      <td>5816</td>\n",
       "      <td>4.0</td>\n",
       "      <td>3.487865</td>\n",
       "    </tr>\n",
       "  </tbody>\n",
       "</table>\n",
       "</div>"
      ],
      "text/plain": [
       "   user_id  book_id  rating  predicted_rating\n",
       "0    25308      105     5.0          3.561863\n",
       "1     5131      249     2.0          4.086386\n",
       "2    36528     3940     5.0          4.779587\n",
       "3    42575     3793     5.0          4.548401\n",
       "4    15566     5816     4.0          3.487865"
      ]
     },
     "execution_count": 185,
     "metadata": {},
     "output_type": "execute_result"
    }
   ],
   "source": [
    "\n",
    "\n",
    "# Convert tensors to numpy arrays\n",
    "user_ids_np = test_data['user', 'rates', 'book'].edge_label_index[0].numpy()\n",
    "book_ids_np = test_data['user', 'rates', 'book'].edge_label_index[1].numpy()\n",
    "ratings_np = test_data['user', 'rates', 'book'].edge_label.numpy()\n",
    "ratings_pred_np = pred_review.detach().numpy()\n",
    "\n",
    "# Create a dictionary with the data\n",
    "data = {\n",
    "    'user_id': user_ids_np,\n",
    "    'book_id': book_ids_np,\n",
    "    'rating': ratings_np, \n",
    "    'predicted_rating': ratings_pred_np\n",
    "}\n",
    "\n",
    "# Create a pandas DataFrame\n",
    "df_ratings = pd.DataFrame(data)\n",
    "df_ratings.head()"
   ]
  },
  {
   "cell_type": "code",
   "execution_count": 190,
   "metadata": {},
   "outputs": [
    {
     "name": "stdout",
     "output_type": "stream",
     "text": [
      "1.8376938242659988\n",
      "2.217035308896765\n",
      "Mean Precision@5: 0.8227504840056128\n",
      "Mean Recall@5: 0.995853558382199\n",
      "Mean F1 Score@5: 0.8788192910496923\n"
     ]
    }
   ],
   "source": [
    "# TODO: rerun with full test set\n",
    "\n",
    "import sys\n",
    "sys.path.append('../src')\n",
    "from evaluation_metrics import *\n",
    "\n",
    "k = 5\n",
    "top_k_recommendations = get_top_k_recommendations(df_ratings, k)\n",
    "actual_items = get_actual_items(df_ratings, threshold=4) # consider only ratings greater than 4\n",
    "# so we're checking how many of the top k recommendations have a rating higher than >= 4 from the user. \n",
    "# threshold can be tuned\n",
    "\n",
    "print(actual_items.apply(lambda x: len(x)).mean())\n",
    "print(top_k_recommendations.apply(lambda x: len(x)).mean())\n",
    "\n",
    "# Evaluate the recommendations\n",
    "mean_precision, mean_recall, mean_f1 = evaluate_recommendations(top_k_recommendations, actual_items, k)\n",
    "print(f\"Mean Precision@{k}: {mean_precision}\")\n",
    "print(f\"Mean Recall@{k}: {mean_recall}\")\n",
    "print(f\"Mean F1 Score@{k}: {mean_f1}\")\n",
    "\n",
    "# Not sure if this actually makes sense "
   ]
  },
  {
   "cell_type": "markdown",
   "metadata": {},
   "source": [
    "Matrix factorization:\n",
    "\n",
    "Mean Precision@10: 0.7722234424908242\n",
    "Mean Recall@10: 0.5475533441372822\n",
    "Mean F1 Score@10: 0.6128487333956821"
   ]
  },
  {
   "cell_type": "code",
   "execution_count": null,
   "metadata": {},
   "outputs": [],
   "source": [
    "# todo\n",
    "# visualization on how the data looks like\n",
    "\n",
    "\n",
    "# report \n",
    "# objective and motivation \n",
    "# analysis of the data\n",
    "# method: improving over matrix factorization baseline\n",
    "# results\n",
    "# future study: even an idea about how to use diversity"
   ]
  }
 ],
 "metadata": {
  "kernelspec": {
   "display_name": "networkML",
   "language": "python",
   "name": "python3"
  },
  "language_info": {
   "codemirror_mode": {
    "name": "ipython",
    "version": 3
   },
   "file_extension": ".py",
   "mimetype": "text/x-python",
   "name": "python",
   "nbconvert_exporter": "python",
   "pygments_lexer": "ipython3",
   "version": "3.10.13"
  }
 },
 "nbformat": 4,
 "nbformat_minor": 2
}
