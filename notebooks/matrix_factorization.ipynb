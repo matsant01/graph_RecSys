{
 "cells": [
  {
   "cell_type": "code",
   "execution_count": 1,
   "metadata": {},
   "outputs": [],
   "source": [
    "%load_ext autoreload\n",
    "%autoreload 2"
   ]
  },
  {
   "cell_type": "code",
   "execution_count": 6,
   "metadata": {},
   "outputs": [
    {
     "name": "stderr",
     "output_type": "stream",
     "text": [
      "  9%|▊         | 408/4670 [00:03<00:35, 118.48it/s]"
     ]
    }
   ],
   "source": [
    "import sys\n",
    "sys.path.append('../src')\n",
    "from matrix_factorization import * \n",
    "from evaluation_metrics import *\n",
    "from sklearn.model_selection import train_test_split\n",
    "\n",
    "full_datadata = pd.read_csv(\"../data/ratings.csv\")\n",
    "train_data = pd.read_csv(\"../data/splitted_data/train.csv\")\n",
    "test_data = pd.read_csv(\"../data/splitted_data/test.csv\")\n",
    "mf = MatrixFactorization(num_epochs=2)\n",
    "mf.train(full_datadata, train_data)\n",
    "mse = mf.evaluate(test_data)"
   ]
  },
  {
   "cell_type": "code",
   "execution_count": null,
   "metadata": {},
   "outputs": [
    {
     "name": "stdout",
     "output_type": "stream",
     "text": [
      "Mean Squared Error:  0.7657402857015103\n"
     ]
    }
   ],
   "source": [
    "print(\"Mean Squared Error: \", mse)"
   ]
  },
  {
   "cell_type": "code",
   "execution_count": null,
   "metadata": {},
   "outputs": [
    {
     "name": "stdout",
     "output_type": "stream",
     "text": [
      "Mean Precision@5: 0.7649646205665738\n",
      "Mean Recall@5: 0.5574260082641076\n",
      "Mean F1 Score@5: 0.6087013170372507\n"
     ]
    }
   ],
   "source": [
    "k = 5\n",
    "test_data['predicted_rating'] = mf.predict(test_data[\"user_id\"], test_data[\"book_id\"])\n",
    "top_k_recommendations = get_top_k_recommendations(test_data, k)\n",
    "actual_items = get_actual_items(test_data, 4) # ground truth\n",
    "\n",
    "# Evaluate the recommendations\n",
    "mean_precision, mean_recall, mean_f1 = evaluate_recommendations(top_k_recommendations, actual_items, k)\n",
    "print(f\"Mean Precision@{k}: {mean_precision}\")\n",
    "print(f\"Mean Recall@{k}: {mean_recall}\")\n",
    "print(f\"Mean F1 Score@{k}: {mean_f1}\")"
   ]
  }
 ],
 "metadata": {
  "kernelspec": {
   "display_name": "base",
   "language": "python",
   "name": "python3"
  },
  "language_info": {
   "codemirror_mode": {
    "name": "ipython",
    "version": 3
   },
   "file_extension": ".py",
   "mimetype": "text/x-python",
   "name": "python",
   "nbconvert_exporter": "python",
   "pygments_lexer": "ipython3",
   "version": "3.8.18"
  }
 },
 "nbformat": 4,
 "nbformat_minor": 2
}
