{
 "cells": [
  {
   "cell_type": "code",
   "execution_count": 1,
   "metadata": {},
   "outputs": [],
   "source": [
    "%load_ext autoreload\n",
    "%autoreload 2"
   ]
  },
  {
   "cell_type": "code",
   "execution_count": 4,
   "metadata": {},
   "outputs": [
    {
     "name": "stdout",
     "output_type": "stream",
     "text": [
      "Iteration: 0, MSE: 16.378650346350838\n",
      "Iteration: 1000, MSE: 16.29100357964364\n",
      "Iteration: 2000, MSE: 13.688399384798949\n",
      "Iteration: 3000, MSE: 10.355159557902557\n",
      "Iteration: 4000, MSE: 8.174408613702008\n",
      "Iteration: 5000, MSE: 6.74985339167553\n",
      "Iteration: 6000, MSE: 5.768717994346429\n",
      "Iteration: 7000, MSE: 5.058418606464749\n",
      "Iteration: 8000, MSE: 4.522139478413466\n",
      "Iteration: 9000, MSE: 4.103576661169831\n",
      "Iteration: 10000, MSE: 3.7679559262496714\n",
      "Iteration: 11000, MSE: 3.4929724113390828\n",
      "Iteration: 12000, MSE: 3.2634764225219337\n",
      "Iteration: 13000, MSE: 3.0692914752934857\n",
      "Iteration: 14000, MSE: 2.9025771661162962\n",
      "Validation MSE: 0.7627605136841094\n"
     ]
    }
   ],
   "source": [
    "import sys\n",
    "sys.path.append('../src')\n",
    "from matrix_factorization import * \n",
    "from evaluation_metrics import *\n",
    "from sklearn.model_selection import train_test_split\n",
    "\n",
    "filepath = \"../data/ratings.csv\"\n",
    "data = pd.read_csv(filepath)\n",
    "# train_data, test_data = train_test_split(data, test_size=0.2)\n",
    "train_data = pd.read_csv(\"../data/splitted_data/train_set.csv\")\n",
    "train_data.columns = [\"user_id\", \"book_id\", \"rating\"]\n",
    "test_data = pd.read_csv(\"../data/splitted_data/test_set.csv\")\n",
    "test_data.columns = [\"user_id\", \"book_id\", \"rating\"]\n",
    "W, Z, num_users, num_books = initialize_data(train_data)\n",
    "W, Z = factorize_matrix_SGD(train_data, W, Z, num_iterations=15000, batch_size=1024)\n",
    "predictions = compute_predictions(test_data, W, Z)\n",
    "mse = calculate_mse(test_data[\"rating\"], predictions)\n",
    "print(f\"Validation MSE: {mse}\")\n"
   ]
  },
  {
   "cell_type": "code",
   "execution_count": 6,
   "metadata": {},
   "outputs": [
    {
     "name": "stdout",
     "output_type": "stream",
     "text": [
      "Mean Precision@5: 0.7734724029750341\n",
      "Mean Recall@5: 0.5637507818077581\n",
      "Mean F1 Score@5: 0.6157158842297465\n"
     ]
    }
   ],
   "source": [
    "k = 5\n",
    "test_data['predicted_rating'] = predictions\n",
    "top_k_recommendations = get_top_k_recommendations(test_data, k)\n",
    "actual_items = get_actual_items(test_data, 4) # ground truth\n",
    "\n",
    "# Evaluate the recommendations\n",
    "mean_precision, mean_recall, mean_f1 = evaluate_recommendations(top_k_recommendations, actual_items, k)\n",
    "print(f\"Mean Precision@{k}: {mean_precision}\")\n",
    "print(f\"Mean Recall@{k}: {mean_recall}\")\n",
    "print(f\"Mean F1 Score@{k}: {mean_f1}\")"
   ]
  }
 ],
 "metadata": {
  "kernelspec": {
   "display_name": "base",
   "language": "python",
   "name": "python3"
  },
  "language_info": {
   "codemirror_mode": {
    "name": "ipython",
    "version": 3
   },
   "file_extension": ".py",
   "mimetype": "text/x-python",
   "name": "python",
   "nbconvert_exporter": "python",
   "pygments_lexer": "ipython3",
   "version": "3.8.18"
  }
 },
 "nbformat": 4,
 "nbformat_minor": 2
}
