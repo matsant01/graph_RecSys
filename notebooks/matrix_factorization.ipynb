{
 "cells": [
  {
   "cell_type": "code",
   "execution_count": 9,
   "metadata": {},
   "outputs": [],
   "source": [
    "%load_ext autoreload\n",
    "%autoreload 2"
   ]
  },
  {
   "cell_type": "code",
   "execution_count": 13,
   "metadata": {},
   "outputs": [
    {
     "name": "stdout",
     "output_type": "stream",
     "text": [
      "Iteration: 0, MSE: 16.37011452818023\n",
      "Iteration: 1000, MSE: 16.229672287619234\n",
      "Iteration: 2000, MSE: 13.079218059076025\n",
      "Iteration: 3000, MSE: 9.818596577676747\n",
      "Iteration: 4000, MSE: 7.745082309445327\n",
      "Iteration: 5000, MSE: 6.400001266243933\n",
      "Iteration: 6000, MSE: 5.476048505586051\n",
      "Iteration: 7000, MSE: 4.80686609791338\n",
      "Iteration: 8000, MSE: 4.301839849949904\n",
      "Iteration: 9000, MSE: 3.90791501317791\n",
      "Validation MSE: 0.771395400356718\n"
     ]
    }
   ],
   "source": [
    "import sys\n",
    "sys.path.append('../src')\n",
    "from matrix_factorization import * \n",
    "from evaluation_metrics import *\n",
    "from sklearn.model_selection import train_test_split\n",
    "\n",
    "filepath = \"../data/ratings.csv\"\n",
    "data = pd.read_csv(filepath)\n",
    "train_data, test_data = train_test_split(data, test_size=0.2)\n",
    "W, Z, num_users, num_books = initialize_data(train_data)\n",
    "W, Z = factorize_matrix_SGD(train_data, W, Z, num_iterations=10000, batch_size=1024)\n",
    "predictions = compute_predictions(test_data, W, Z)\n",
    "mse = calculate_mse(test_data[\"rating\"], predictions)\n",
    "print(f\"Validation MSE: {mse}\")\n"
   ]
  },
  {
   "cell_type": "code",
   "execution_count": 24,
   "metadata": {},
   "outputs": [
    {
     "name": "stdout",
     "output_type": "stream",
     "text": [
      "Mean Precision@10: 0.7722234424908242\n",
      "Mean Recall@10: 0.5475533441372822\n",
      "Mean F1 Score@10: 0.6128487333956821\n"
     ]
    }
   ],
   "source": [
    "k = 10\n",
    "test_data['predicted_rating'] = predictions\n",
    "top_k_recommendations = get_top_k_recommendations(test_data, k)\n",
    "actual_items = get_actual_items(test_data) # ground truth\n",
    "\n",
    "# Evaluate the recommendations\n",
    "mean_precision, mean_recall, mean_f1 = evaluate_recommendations(top_k_recommendations, actual_items, k)\n",
    "print(f\"Mean Precision@{k}: {mean_precision}\")\n",
    "print(f\"Mean Recall@{k}: {mean_recall}\")\n",
    "print(f\"Mean F1 Score@{k}: {mean_f1}\")"
   ]
  }
 ],
 "metadata": {
  "kernelspec": {
   "display_name": "base",
   "language": "python",
   "name": "python3"
  },
  "language_info": {
   "codemirror_mode": {
    "name": "ipython",
    "version": 3
   },
   "file_extension": ".py",
   "mimetype": "text/x-python",
   "name": "python",
   "nbconvert_exporter": "python",
   "pygments_lexer": "ipython3",
   "version": "3.8.18"
  }
 },
 "nbformat": 4,
 "nbformat_minor": 2
}
