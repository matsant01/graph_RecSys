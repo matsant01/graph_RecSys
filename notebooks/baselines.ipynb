{
 "cells": [
  {
   "cell_type": "code",
   "execution_count": 1,
   "metadata": {},
   "outputs": [],
   "source": [
    "%load_ext autoreload\n",
    "%autoreload 2"
   ]
  },
  {
   "cell_type": "code",
   "execution_count": 2,
   "metadata": {},
   "outputs": [],
   "source": [
    "import sys\n",
    "sys.path.append('../src')\n",
    "from matrix_factorization import * \n",
    "from evaluation_metrics import *\n",
    "from sklearn.model_selection import train_test_split"
   ]
  },
  {
   "cell_type": "markdown",
   "metadata": {},
   "source": [
    "## Matrix Factorization"
   ]
  },
  {
   "cell_type": "code",
   "execution_count": 3,
   "metadata": {},
   "outputs": [
    {
     "name": "stderr",
     "output_type": "stream",
     "text": [
      "100%|██████████| 4670/4670 [00:25<00:00, 182.09it/s]\n"
     ]
    },
    {
     "name": "stdout",
     "output_type": "stream",
     "text": [
      "Epoch: 0, Evaluation MSE: 0.7682002204567453\n"
     ]
    },
    {
     "name": "stderr",
     "output_type": "stream",
     "text": [
      "100%|██████████| 4670/4670 [00:25<00:00, 182.68it/s]\n"
     ]
    },
    {
     "name": "stdout",
     "output_type": "stream",
     "text": [
      "Epoch: 1, Evaluation MSE: 0.7614160078077515\n"
     ]
    },
    {
     "name": "stderr",
     "output_type": "stream",
     "text": [
      "100%|██████████| 4670/4670 [00:25<00:00, 184.16it/s]\n"
     ]
    },
    {
     "name": "stdout",
     "output_type": "stream",
     "text": [
      "Epoch: 2, Evaluation MSE: 0.7599270562291458\n"
     ]
    },
    {
     "name": "stderr",
     "output_type": "stream",
     "text": [
      "100%|██████████| 4670/4670 [00:26<00:00, 179.39it/s]\n"
     ]
    },
    {
     "name": "stdout",
     "output_type": "stream",
     "text": [
      "Epoch: 3, Evaluation MSE: 0.7593573267559782\n"
     ]
    },
    {
     "name": "stderr",
     "output_type": "stream",
     "text": [
      "100%|██████████| 4670/4670 [00:26<00:00, 178.22it/s]\n"
     ]
    },
    {
     "name": "stdout",
     "output_type": "stream",
     "text": [
      "Epoch: 4, Evaluation MSE: 0.7579182359003023\n"
     ]
    },
    {
     "name": "stderr",
     "output_type": "stream",
     "text": [
      "100%|██████████| 4670/4670 [00:25<00:00, 183.96it/s]\n"
     ]
    },
    {
     "name": "stdout",
     "output_type": "stream",
     "text": [
      "Epoch: 5, Evaluation MSE: 0.7569669026961833\n"
     ]
    },
    {
     "name": "stderr",
     "output_type": "stream",
     "text": [
      "100%|██████████| 4670/4670 [00:25<00:00, 183.28it/s]\n"
     ]
    },
    {
     "name": "stdout",
     "output_type": "stream",
     "text": [
      "Epoch: 6, Evaluation MSE: 0.7542165771754052\n"
     ]
    },
    {
     "name": "stderr",
     "output_type": "stream",
     "text": [
      "100%|██████████| 4670/4670 [00:25<00:00, 181.62it/s]\n"
     ]
    },
    {
     "name": "stdout",
     "output_type": "stream",
     "text": [
      "Epoch: 7, Evaluation MSE: 0.7518747094278307\n"
     ]
    },
    {
     "name": "stderr",
     "output_type": "stream",
     "text": [
      "100%|██████████| 4670/4670 [00:25<00:00, 184.92it/s]\n"
     ]
    },
    {
     "name": "stdout",
     "output_type": "stream",
     "text": [
      "Epoch: 8, Evaluation MSE: 0.7476289608650675\n"
     ]
    },
    {
     "name": "stderr",
     "output_type": "stream",
     "text": [
      "100%|██████████| 4670/4670 [00:25<00:00, 184.35it/s]"
     ]
    },
    {
     "name": "stdout",
     "output_type": "stream",
     "text": [
      "Epoch: 9, Evaluation MSE: 0.742743553019494\n"
     ]
    },
    {
     "name": "stderr",
     "output_type": "stream",
     "text": [
      "\n"
     ]
    }
   ],
   "source": [
    "full_datadata = pd.read_csv(\"../data/GoodBooks-10k/ratings.csv\")\n",
    "train_data = pd.read_csv(\"../data/splitted_data/train.csv\")\n",
    "test_data = pd.read_csv(\"../data/splitted_data/test.csv\")\n",
    "eval_data = pd.read_csv(\"../data/splitted_data/val.csv\")\n",
    "mf = MatrixFactorization(num_epochs=10, output_dir=\"../output/matrix_fact\")\n",
    "mf.train_loop(full_datadata, train_data, eval_data)\n",
    "mse = mf.evaluate(test_data)"
   ]
  },
  {
   "cell_type": "code",
   "execution_count": 4,
   "metadata": {},
   "outputs": [
    {
     "name": "stdout",
     "output_type": "stream",
     "text": [
      "Mean Squared Error on test set:  0.7412618296216611\n"
     ]
    }
   ],
   "source": [
    "print(\"Mean Squared Error on test set: \", mse)"
   ]
  },
  {
   "cell_type": "code",
   "execution_count": 5,
   "metadata": {},
   "outputs": [
    {
     "name": "stdout",
     "output_type": "stream",
     "text": [
      "Results on test set:\n",
      "Mean Precision@5: 0.493710515144705\n",
      "Mean Recall@5: 0.3115353243568976\n",
      "Mean F1 Score@5: 0.3705496973701249\n",
      "Mean Average Precision@15: 0.489237289280096\n"
     ]
    }
   ],
   "source": [
    "k = 5\n",
    "big_k = 15\n",
    "threshold = 4\n",
    "test_data['predicted_rating'] = mf.predict(test_data)\n",
    "\n",
    "# Evaluate the recommendations\n",
    "mean_precision, mean_recall, mean_f1, map_k = evaluate_recommendations(test_data, threshold, k, big_k)\n",
    "\n",
    "print(\"Results on test set:\")\n",
    "print(f\"Mean Precision@{k}: {mean_precision}\")\n",
    "print(f\"Mean Recall@{k}: {mean_recall}\")\n",
    "print(f\"Mean F1 Score@{k}: {mean_f1}\")\n",
    "print(f\"Mean Average Precision@{big_k}: {map_k}\")"
   ]
  },
  {
   "cell_type": "markdown",
   "metadata": {},
   "source": [
    "# Random baseline"
   ]
  },
  {
   "cell_type": "code",
   "execution_count": 6,
   "metadata": {},
   "outputs": [
    {
     "data": {
      "text/html": [
       "<div>\n",
       "<style scoped>\n",
       "    .dataframe tbody tr th:only-of-type {\n",
       "        vertical-align: middle;\n",
       "    }\n",
       "\n",
       "    .dataframe tbody tr th {\n",
       "        vertical-align: top;\n",
       "    }\n",
       "\n",
       "    .dataframe thead th {\n",
       "        text-align: right;\n",
       "    }\n",
       "</style>\n",
       "<table border=\"1\" class=\"dataframe\">\n",
       "  <thead>\n",
       "    <tr style=\"text-align: right;\">\n",
       "      <th></th>\n",
       "      <th>user_id</th>\n",
       "      <th>book_id</th>\n",
       "      <th>rating</th>\n",
       "      <th>predicted_rating</th>\n",
       "    </tr>\n",
       "  </thead>\n",
       "  <tbody>\n",
       "    <tr>\n",
       "      <th>0</th>\n",
       "      <td>45499</td>\n",
       "      <td>5550</td>\n",
       "      <td>4.0</td>\n",
       "      <td>4.886325</td>\n",
       "    </tr>\n",
       "    <tr>\n",
       "      <th>1</th>\n",
       "      <td>42306</td>\n",
       "      <td>7344</td>\n",
       "      <td>3.0</td>\n",
       "      <td>3.279738</td>\n",
       "    </tr>\n",
       "    <tr>\n",
       "      <th>2</th>\n",
       "      <td>43412</td>\n",
       "      <td>3952</td>\n",
       "      <td>4.0</td>\n",
       "      <td>4.541857</td>\n",
       "    </tr>\n",
       "    <tr>\n",
       "      <th>3</th>\n",
       "      <td>19263</td>\n",
       "      <td>6289</td>\n",
       "      <td>4.0</td>\n",
       "      <td>2.918402</td>\n",
       "    </tr>\n",
       "    <tr>\n",
       "      <th>4</th>\n",
       "      <td>25831</td>\n",
       "      <td>3636</td>\n",
       "      <td>5.0</td>\n",
       "      <td>4.106030</td>\n",
       "    </tr>\n",
       "    <tr>\n",
       "      <th>...</th>\n",
       "      <td>...</td>\n",
       "      <td>...</td>\n",
       "      <td>...</td>\n",
       "      <td>...</td>\n",
       "    </tr>\n",
       "    <tr>\n",
       "      <th>597642</th>\n",
       "      <td>37136</td>\n",
       "      <td>984</td>\n",
       "      <td>3.0</td>\n",
       "      <td>4.758032</td>\n",
       "    </tr>\n",
       "    <tr>\n",
       "      <th>597643</th>\n",
       "      <td>45477</td>\n",
       "      <td>646</td>\n",
       "      <td>5.0</td>\n",
       "      <td>4.998947</td>\n",
       "    </tr>\n",
       "    <tr>\n",
       "      <th>597644</th>\n",
       "      <td>30726</td>\n",
       "      <td>829</td>\n",
       "      <td>5.0</td>\n",
       "      <td>4.795645</td>\n",
       "    </tr>\n",
       "    <tr>\n",
       "      <th>597645</th>\n",
       "      <td>45579</td>\n",
       "      <td>536</td>\n",
       "      <td>5.0</td>\n",
       "      <td>3.665440</td>\n",
       "    </tr>\n",
       "    <tr>\n",
       "      <th>597646</th>\n",
       "      <td>6676</td>\n",
       "      <td>3475</td>\n",
       "      <td>4.0</td>\n",
       "      <td>5.343456</td>\n",
       "    </tr>\n",
       "  </tbody>\n",
       "</table>\n",
       "<p>597647 rows × 4 columns</p>\n",
       "</div>"
      ],
      "text/plain": [
       "        user_id  book_id  rating  predicted_rating\n",
       "0         45499     5550     4.0          4.886325\n",
       "1         42306     7344     3.0          3.279738\n",
       "2         43412     3952     4.0          4.541857\n",
       "3         19263     6289     4.0          2.918402\n",
       "4         25831     3636     5.0          4.106030\n",
       "...         ...      ...     ...               ...\n",
       "597642    37136      984     3.0          4.758032\n",
       "597643    45477      646     5.0          4.998947\n",
       "597644    30726      829     5.0          4.795645\n",
       "597645    45579      536     5.0          3.665440\n",
       "597646     6676     3475     4.0          5.343456\n",
       "\n",
       "[597647 rows x 4 columns]"
      ]
     },
     "execution_count": 6,
     "metadata": {},
     "output_type": "execute_result"
    }
   ],
   "source": [
    "mean = train_data['rating'].mean()\n",
    "std = train_data['rating'].std()\n",
    "\n",
    "# for each user sample rating from normal distribution\n",
    "test_data['predicted_rating'] = np.random.normal(mean, std, test_data.shape[0])\n",
    "test_data"
   ]
  },
  {
   "cell_type": "code",
   "execution_count": 7,
   "metadata": {},
   "outputs": [
    {
     "name": "stdout",
     "output_type": "stream",
     "text": [
      "Results on test set:\n",
      "Mean Precision@5: 0.47164768896546555\n",
      "Mean Recall@5: 0.3322702152054073\n",
      "Mean F1 Score@5: 0.3789392663008407\n",
      "Mean Average Precision@15: 0.4714193959495908\n"
     ]
    }
   ],
   "source": [
    "k = 5\n",
    "big_k = 15\n",
    "threshold = 4\n",
    "\n",
    "# Evaluate the recommendations\n",
    "mean_precision, mean_recall, mean_f1, map_k = evaluate_recommendations(test_data, threshold, k, big_k)\n",
    "\n",
    "print(\"Results on test set:\")\n",
    "print(f\"Mean Precision@{k}: {mean_precision}\")\n",
    "print(f\"Mean Recall@{k}: {mean_recall}\")\n",
    "print(f\"Mean F1 Score@{k}: {mean_f1}\")\n",
    "print(f\"Mean Average Precision@{big_k}: {map_k}\")"
   ]
  },
  {
   "cell_type": "code",
   "execution_count": null,
   "metadata": {},
   "outputs": [],
   "source": []
  }
 ],
 "metadata": {
  "kernelspec": {
   "display_name": "base",
   "language": "python",
   "name": "python3"
  },
  "language_info": {
   "codemirror_mode": {
    "name": "ipython",
    "version": 3
   },
   "file_extension": ".py",
   "mimetype": "text/x-python",
   "name": "python",
   "nbconvert_exporter": "python",
   "pygments_lexer": "ipython3",
   "version": "3.10.13"
  }
 },
 "nbformat": 4,
 "nbformat_minor": 2
}
