{
 "cells": [
  {
   "cell_type": "code",
   "execution_count": 3,
   "metadata": {},
   "outputs": [
    {
     "name": "stdout",
     "output_type": "stream",
     "text": [
      "Mean Squared Error: 16.359458003596263\n"
     ]
    }
   ],
   "source": [
    "from matrix_factorization import * \n",
    "from evaluation_metrics import *\n",
    "\n",
    "filepath = 'data/ratings.csv'\n",
    "data, W, Z, num_users, num_books = initialize_data(filepath)\n",
    "W, Z = factorize_matrix_SGD(data, W, Z)\n",
    "data = compute_predictions(data, W, Z)\n",
    "mse = calculate_mse(data)\n",
    "print(f\"Mean Squared Error: {mse}\")"
   ]
  },
  {
   "cell_type": "code",
   "execution_count": 5,
   "metadata": {},
   "outputs": [
    {
     "name": "stdout",
     "output_type": "stream",
     "text": [
      "Mean Precision@5: 0.7342321087518257\n",
      "Mean Recall@5: 0.051262381957066755\n",
      "Mean F1 Score@5: 0.09459203609706525\n"
     ]
    }
   ],
   "source": [
    "k = 5\n",
    "top_k_recommendations = get_top_k_recommendations(data, k)\n",
    "actual_items = get_actual_items(data)\n",
    "\n",
    "# Evaluate the recommendations\n",
    "mean_precision, mean_recall, mean_f1 = evaluate_recommendations(top_k_recommendations, actual_items, k)\n",
    "print(f\"Mean Precision@{k}: {mean_precision}\")\n",
    "print(f\"Mean Recall@{k}: {mean_recall}\")\n",
    "print(f\"Mean F1 Score@{k}: {mean_f1}\")"
   ]
  }
 ],
 "metadata": {
  "kernelspec": {
   "display_name": "base",
   "language": "python",
   "name": "python3"
  },
  "language_info": {
   "codemirror_mode": {
    "name": "ipython",
    "version": 3
   },
   "file_extension": ".py",
   "mimetype": "text/x-python",
   "name": "python",
   "nbconvert_exporter": "python",
   "pygments_lexer": "ipython3",
   "version": "3.8.18"
  }
 },
 "nbformat": 4,
 "nbformat_minor": 2
}
