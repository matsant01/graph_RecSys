{
 "cells": [
  {
   "cell_type": "code",
   "execution_count": 1,
   "metadata": {},
   "outputs": [],
   "source": [
    "%load_ext autoreload\n",
    "%autoreload 2"
   ]
  },
  {
   "cell_type": "code",
   "execution_count": 2,
   "metadata": {},
   "outputs": [
    {
     "name": "stderr",
     "output_type": "stream",
     "text": [
      "/opt/homebrew/anaconda3/envs/network_ml/lib/python3.10/site-packages/tqdm/auto.py:21: TqdmWarning: IProgress not found. Please update jupyter and ipywidgets. See https://ipywidgets.readthedocs.io/en/stable/user_install.html\n",
      "  from .autonotebook import tqdm as notebook_tqdm\n"
     ]
    }
   ],
   "source": [
    "from load_split_data import * "
   ]
  },
  {
   "cell_type": "code",
   "execution_count": 3,
   "metadata": {},
   "outputs": [
    {
     "name": "stderr",
     "output_type": "stream",
     "text": [
      "Batches: 100%|██████████| 313/313 [00:51<00:00,  6.11it/s]\n",
      "Adding edges: 100%|██████████| 597648/597648 [00:14<00:00, 42185.58it/s]\n"
     ]
    },
    {
     "name": "stdout",
     "output_type": "stream",
     "text": [
      "degree centrality computed\n",
      "pagerank computed\n",
      "all metrics computed\n"
     ]
    },
    {
     "name": "stderr",
     "output_type": "stream",
     "text": [
      "/Users/stefano/Documents/EPFL/sem2/network ml/project /graph_RecSys/src/load_split_data.py:117: UserWarning: To copy construct from a tensor, it is recommended to use sourceTensor.clone().detach() or sourceTensor.clone().detach().requires_grad_(True), rather than torch.tensor(sourceTensor).\n",
      "  data['book'].x = torch.tensor(books_features,).float()  # (num_books, num_books_features)\n"
     ]
    }
   ],
   "source": [
    "book_path = '../data/books.csv'\n",
    "ratings_path = '../data/ratings.csv'\n",
    "device = torch.device('cuda' if torch.cuda.is_available() else 'cpu')\n",
    "\n",
    "loader = LoadData(book_path, ratings_path, device, sample_size=0.1)\n",
    "books_features = loader.compute_books_embeddings(loader.df_books)\n",
    "users_features = loader.compute_user_embeddings(loader.df_ratings)\n",
    "data = loader.create_hetero_graph(books_features, users_features)"
   ]
  },
  {
   "cell_type": "code",
   "execution_count": 14,
   "metadata": {},
   "outputs": [],
   "source": [
    "train_data, val_data, test_data = loader.split_hetero(data)\n",
    "\n",
    "loader.save_hetero(train_data, '../data/splitted_data/train_hetero.pt')\n",
    "loader.save_hetero(val_data, '../data/splitted_data/val_hetero.pt')\n",
    "loader.save_hetero(test_data, '../data/splitted_data/test_hetero.pt')\n",
    "loader.convert_hetero_to_csv_save(train_data, '../data/splitted_data/train.csv')\n",
    "loader.convert_hetero_to_csv_save(val_data, '../data/splitted_data/val.csv')\n",
    "loader.convert_hetero_to_csv_save(test_data, '../data/splitted_data/test.csv')"
   ]
  },
  {
   "cell_type": "code",
   "execution_count": 13,
   "metadata": {},
   "outputs": [],
   "source": []
  }
 ],
 "metadata": {
  "kernelspec": {
   "display_name": "network_ml",
   "language": "python",
   "name": "python3"
  },
  "language_info": {
   "codemirror_mode": {
    "name": "ipython",
    "version": 3
   },
   "file_extension": ".py",
   "mimetype": "text/x-python",
   "name": "python",
   "nbconvert_exporter": "python",
   "pygments_lexer": "ipython3",
   "version": "3.1.-1"
  }
 },
 "nbformat": 4,
 "nbformat_minor": 2
}
